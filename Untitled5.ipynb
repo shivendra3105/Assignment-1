{
 "cells": [
  {
   "cell_type": "code",
   "execution_count": 3,
   "id": "4d9db2fa-445c-4352-bf25-657efe0a281c",
   "metadata": {},
   "outputs": [
    {
     "name": "stdin",
     "output_type": "stream",
     "text": [
      "enter your marks 10\n"
     ]
    },
    {
     "name": "stdout",
     "output_type": "stream",
     "text": [
      "you will be a part of A4 batch\n"
     ]
    }
   ],
   "source": [
    "marks =int(input(\"enter your marks\"))\n",
    "if marks >= 80 :\n",
    "    print(\"you will be a part of A1 batch\")\n",
    "elif marks>= 60 and marks < 80:\n",
    "    print(\"you will be a part of A2 batch\")\n",
    "elif marks>= 40 and marks < 60:\n",
    "    print(\"you will be a part of A3 batch\")\n",
    "else:\n",
    "    print (\"you will be a part of A4 batch\")"
   ]
  },
  {
   "cell_type": "code",
   "execution_count": 4,
   "id": "423138dd-0b73-4ce2-b31c-15b78449c194",
   "metadata": {},
   "outputs": [
    {
     "data": {
      "text/plain": [
       "int"
      ]
     },
     "execution_count": 4,
     "metadata": {},
     "output_type": "execute_result"
    }
   ],
   "source": [
    "type(marks)"
   ]
  },
  {
   "cell_type": "code",
   "execution_count": 6,
   "id": "5ecd0b88-da06-4e09-81ef-a2cbc38bb91d",
   "metadata": {},
   "outputs": [
    {
     "name": "stdin",
     "output_type": "stream",
     "text": [
      "enter price 400\n"
     ]
    },
    {
     "name": "stdout",
     "output_type": "stream",
     "text": [
      "i will not purchase\n"
     ]
    }
   ],
   "source": [
    "price = int(input(\"enter price\"))\n",
    "if price> 1000:\n",
    "    print(\"i will not purchase\")\n",
    "else:\n",
    "    print(\"i will not purchase\")"
   ]
  },
  {
   "cell_type": "code",
   "execution_count": 8,
   "id": "b24a80aa-673f-424e-9e60-6cb21bfa99ac",
   "metadata": {},
   "outputs": [
    {
     "name": "stdin",
     "output_type": "stream",
     "text": [
      "enter price 400\n"
     ]
    },
    {
     "name": "stdout",
     "output_type": "stream",
     "text": [
      "i will not purchase\n"
     ]
    }
   ],
   "source": [
    "price = int(input(\"enter price\"))\n",
    "if price> 1000:\n",
    "    print(\"i will purchase\")\n",
    "else:\n",
    "    print(\"i will not purchase\")"
   ]
  },
  {
   "cell_type": "code",
   "execution_count": 9,
   "id": "3af7d7f4-3d40-4909-b094-5932ddd02c9b",
   "metadata": {},
   "outputs": [
    {
     "name": "stdin",
     "output_type": "stream",
     "text": [
      "enter price 1200\n"
     ]
    },
    {
     "name": "stdout",
     "output_type": "stream",
     "text": [
      "i will purchase\n"
     ]
    }
   ],
   "source": [
    "price = int(input(\"enter price\"))\n",
    "if price> 1000:\n",
    "    print(\"i will purchase\")\n",
    "else:\n",
    "    print(\"i will not purchase\")"
   ]
  },
  {
   "cell_type": "code",
   "execution_count": 10,
   "id": "8e2eae1a-a391-4fcd-bd1a-770c952c3637",
   "metadata": {},
   "outputs": [],
   "source": [
    "l = [1,23,56,65,48,56,46,4,5]"
   ]
  },
  {
   "cell_type": "code",
   "execution_count": 17,
   "id": "ac2e110c-56f5-4106-849d-ed7317057450",
   "metadata": {},
   "outputs": [
    {
     "data": {
      "text/plain": [
       "2"
      ]
     },
     "execution_count": 17,
     "metadata": {},
     "output_type": "execute_result"
    }
   ],
   "source": [
    "l[0] + 1"
   ]
  },
  {
   "cell_type": "code",
   "execution_count": 18,
   "id": "acbfd2ce-91e4-4adb-b17a-5578bb538e04",
   "metadata": {},
   "outputs": [],
   "source": [
    "l1 = []"
   ]
  },
  {
   "cell_type": "code",
   "execution_count": 20,
   "id": "4bef84db-418f-4e9b-9685-28c350ca28c7",
   "metadata": {},
   "outputs": [],
   "source": [
    "l1.append(l[0]+1)"
   ]
  },
  {
   "cell_type": "code",
   "execution_count": 21,
   "id": "7e160628-2f0c-4a79-b4d6-405d046763be",
   "metadata": {},
   "outputs": [
    {
     "data": {
      "text/plain": [
       "[2]"
      ]
     },
     "execution_count": 21,
     "metadata": {},
     "output_type": "execute_result"
    }
   ],
   "source": [
    "l1"
   ]
  },
  {
   "cell_type": "code",
   "execution_count": 25,
   "id": "be71313d-f6c8-4d8a-a4d3-eb64238fb80f",
   "metadata": {},
   "outputs": [],
   "source": [
    "l = [13,3,5,4,56,4,5,4]"
   ]
  },
  {
   "cell_type": "code",
   "execution_count": 33,
   "id": "a39dc004-7032-4e1a-a839-d3ef631a2053",
   "metadata": {},
   "outputs": [
    {
     "name": "stdout",
     "output_type": "stream",
     "text": [
      "23\n",
      "13\n",
      "15\n",
      "14\n",
      "66\n",
      "14\n",
      "15\n",
      "14\n"
     ]
    }
   ],
   "source": [
    "l1 = []\n",
    "for i in l :\n",
    "    print(i + 10)\n",
    "    l1.append(i+10)"
   ]
  },
  {
   "cell_type": "code",
   "execution_count": 34,
   "id": "10526159-af5c-4b13-907a-a294d85d63c4",
   "metadata": {},
   "outputs": [
    {
     "data": {
      "text/plain": [
       "[23, 13, 15, 14, 66, 14, 15, 14]"
      ]
     },
     "execution_count": 34,
     "metadata": {},
     "output_type": "execute_result"
    }
   ],
   "source": [
    "l1"
   ]
  },
  {
   "cell_type": "code",
   "execution_count": 35,
   "id": "4a7478ee-1c6e-4d94-b7e2-78711e30892a",
   "metadata": {},
   "outputs": [
    {
     "data": {
      "text/plain": [
       "[13, 3, 5, 4, 56, 4, 5, 4]"
      ]
     },
     "execution_count": 35,
     "metadata": {},
     "output_type": "execute_result"
    }
   ],
   "source": [
    "l"
   ]
  },
  {
   "cell_type": "code",
   "execution_count": 36,
   "id": "64828c71-842a-422c-a050-776ef8816c4d",
   "metadata": {},
   "outputs": [],
   "source": [
    "l =[\"sudh\" , \"kumar\" , \"pskills\" , \"course\"]"
   ]
  },
  {
   "cell_type": "code",
   "execution_count": 38,
   "id": "e647702d-0bcc-4dbb-bae5-0e6b8c445377",
   "metadata": {},
   "outputs": [
    {
     "name": "stdout",
     "output_type": "stream",
     "text": [
      "sudh\n",
      "kumar\n",
      "pskills\n",
      "course\n"
     ]
    }
   ],
   "source": [
    "l1 =[]\n",
    "for i in l :\n",
    "    print(i)\n",
    "    l1.append(i.upper())"
   ]
  },
  {
   "cell_type": "code",
   "execution_count": 39,
   "id": "b64e64ce-6502-4cee-84f6-c2e2978215ef",
   "metadata": {},
   "outputs": [
    {
     "data": {
      "text/plain": [
       "['SUDH', 'KUMAR', 'PSKILLS', 'COURSE']"
      ]
     },
     "execution_count": 39,
     "metadata": {},
     "output_type": "execute_result"
    }
   ],
   "source": [
    "l1"
   ]
  },
  {
   "cell_type": "code",
   "execution_count": 40,
   "id": "302d8d01-3698-4790-a1a5-b30e94796cab",
   "metadata": {},
   "outputs": [],
   "source": [
    "l = [1,23,6,5,4,86,45,\"sudh\" , \"kumar\" , 325,3325.56 , \"acv\"]"
   ]
  },
  {
   "cell_type": "code",
   "execution_count": 41,
   "id": "90086591-b716-4b0c-9300-7c2d26839d2a",
   "metadata": {},
   "outputs": [],
   "source": [
    "l1_num = []\n",
    "l2_str = []\n",
    "for i in l:\n",
    "    if type(i) == int or type(i) ==float:\n",
    "        l1_num.append(i)\n",
    "    else:\n",
    "        l2_str.append(i)"
   ]
  },
  {
   "cell_type": "code",
   "execution_count": 42,
   "id": "58ea7d2f-7072-4eb6-ab9b-d61885b056c4",
   "metadata": {},
   "outputs": [
    {
     "data": {
      "text/plain": [
       "[1, 23, 6, 5, 4, 86, 45, 325, 3325.56]"
      ]
     },
     "execution_count": 42,
     "metadata": {},
     "output_type": "execute_result"
    }
   ],
   "source": [
    "l1_num"
   ]
  },
  {
   "cell_type": "code",
   "execution_count": 43,
   "id": "8ea25253-025d-4be7-9e7a-48d4a363b888",
   "metadata": {},
   "outputs": [
    {
     "data": {
      "text/plain": [
       "['sudh', 'kumar', 'acv']"
      ]
     },
     "execution_count": 43,
     "metadata": {},
     "output_type": "execute_result"
    }
   ],
   "source": [
    "l2_str"
   ]
  },
  {
   "cell_type": "code",
   "execution_count": null,
   "id": "86a64765-7f37-4e7e-a4a9-4a6b77228bc6",
   "metadata": {},
   "outputs": [],
   "source": []
  }
 ],
 "metadata": {
  "kernelspec": {
   "display_name": "Python 3 (ipykernel)",
   "language": "python",
   "name": "python3"
  },
  "language_info": {
   "codemirror_mode": {
    "name": "ipython",
    "version": 3
   },
   "file_extension": ".py",
   "mimetype": "text/x-python",
   "name": "python",
   "nbconvert_exporter": "python",
   "pygments_lexer": "ipython3",
   "version": "3.10.8"
  }
 },
 "nbformat": 4,
 "nbformat_minor": 5
}
