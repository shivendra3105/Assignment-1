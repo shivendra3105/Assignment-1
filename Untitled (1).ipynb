{
 "cells": [
  {
   "cell_type": "code",
   "execution_count": 8,
   "id": "2c1274ea-e3df-4a9b-a202-9ceba7008b9a",
   "metadata": {},
   "outputs": [],
   "source": [
    "l = [1,345,45,\"sudh\" ,True ,5+7j ,345.456]"
   ]
  },
  {
   "cell_type": "code",
   "execution_count": 9,
   "id": "9a713935-542d-4766-ba47-7a46eab990a5",
   "metadata": {},
   "outputs": [
    {
     "data": {
      "text/plain": [
       "[1, 345, 45, 'sudh', True, (5+7j), 345.456]"
      ]
     },
     "execution_count": 9,
     "metadata": {},
     "output_type": "execute_result"
    }
   ],
   "source": [
    "list(l)"
   ]
  },
  {
   "cell_type": "code",
   "execution_count": 10,
   "id": "c02f3ca3-066c-443a-b174-af745471e205",
   "metadata": {},
   "outputs": [
    {
     "data": {
      "text/plain": [
       "list"
      ]
     },
     "execution_count": 10,
     "metadata": {},
     "output_type": "execute_result"
    }
   ],
   "source": [
    "type(l)"
   ]
  },
  {
   "cell_type": "code",
   "execution_count": 11,
   "id": "97a6d8fe-5e50-472b-8498-189c46fabdfc",
   "metadata": {},
   "outputs": [
    {
     "data": {
      "text/plain": [
       "[1, 345, 45, 'sudh', True, (5+7j), 345.456]"
      ]
     },
     "execution_count": 11,
     "metadata": {},
     "output_type": "execute_result"
    }
   ],
   "source": [
    "l"
   ]
  },
  {
   "cell_type": "code",
   "execution_count": 14,
   "id": "067169d4-4100-4bd2-8b89-094a7ae69631",
   "metadata": {},
   "outputs": [
    {
     "data": {
      "text/plain": [
       "True"
      ]
     },
     "execution_count": 14,
     "metadata": {},
     "output_type": "execute_result"
    }
   ],
   "source": [
    "l[4]"
   ]
  },
  {
   "cell_type": "code",
   "execution_count": 15,
   "id": "dbc955fb-bc4d-45dd-91ae-21f08d1ec3c7",
   "metadata": {},
   "outputs": [
    {
     "data": {
      "text/plain": [
       "345.456"
      ]
     },
     "execution_count": 15,
     "metadata": {},
     "output_type": "execute_result"
    }
   ],
   "source": [
    "l[6]"
   ]
  },
  {
   "cell_type": "code",
   "execution_count": 16,
   "id": "15d593c3-3296-4bae-addc-355a5bd3a6d8",
   "metadata": {},
   "outputs": [
    {
     "data": {
      "text/plain": [
       "[1, 345, 45, 'sudh', True, (5+7j), 345.456]"
      ]
     },
     "execution_count": 16,
     "metadata": {},
     "output_type": "execute_result"
    }
   ],
   "source": [
    "l"
   ]
  },
  {
   "cell_type": "code",
   "execution_count": 17,
   "id": "52c0c14b-61a8-4109-a44d-1de7699bde70",
   "metadata": {},
   "outputs": [
    {
     "data": {
      "text/plain": [
       "345.456"
      ]
     },
     "execution_count": 17,
     "metadata": {},
     "output_type": "execute_result"
    }
   ],
   "source": [
    "l[6]"
   ]
  },
  {
   "cell_type": "code",
   "execution_count": 18,
   "id": "d6c687b7-2209-4dba-b673-6c19f32d4015",
   "metadata": {},
   "outputs": [
    {
     "data": {
      "text/plain": [
       "[1, 345, 45]"
      ]
     },
     "execution_count": 18,
     "metadata": {},
     "output_type": "execute_result"
    }
   ],
   "source": [
    "l[0:3]"
   ]
  },
  {
   "cell_type": "code",
   "execution_count": 19,
   "id": "ec145bc4-ff05-4a9c-9cdb-ea05d39c7b7c",
   "metadata": {},
   "outputs": [
    {
     "data": {
      "text/plain": [
       "345.456"
      ]
     },
     "execution_count": 19,
     "metadata": {},
     "output_type": "execute_result"
    }
   ],
   "source": [
    "l[-1]"
   ]
  },
  {
   "cell_type": "code",
   "execution_count": 20,
   "id": "ce949512-fac9-4475-a55d-b3894d51eb80",
   "metadata": {},
   "outputs": [
    {
     "data": {
      "text/plain": [
       "[1, 45, True, 345.456]"
      ]
     },
     "execution_count": 20,
     "metadata": {},
     "output_type": "execute_result"
    }
   ],
   "source": [
    "l[0:7:2]"
   ]
  },
  {
   "cell_type": "code",
   "execution_count": 21,
   "id": "388fd726-4f05-4b8b-85be-15255430ab19",
   "metadata": {},
   "outputs": [
    {
     "data": {
      "text/plain": [
       "[345.456, (5+7j), True, 'sudh', 45, 345, 1]"
      ]
     },
     "execution_count": 21,
     "metadata": {},
     "output_type": "execute_result"
    }
   ],
   "source": [
    "l[::-1]"
   ]
  },
  {
   "cell_type": "code",
   "execution_count": 23,
   "id": "9b2ebc07-08ab-48c1-b939-d87a7193abdd",
   "metadata": {},
   "outputs": [
    {
     "data": {
      "text/plain": [
       "[1, 45, True, 345.456]"
      ]
     },
     "execution_count": 23,
     "metadata": {},
     "output_type": "execute_result"
    }
   ],
   "source": [
    "l[:7:2]"
   ]
  },
  {
   "cell_type": "code",
   "execution_count": 24,
   "id": "77eed9a6-a9a1-45a0-aab8-014e1f9da46c",
   "metadata": {},
   "outputs": [],
   "source": [
    "s = \"pwskills\" "
   ]
  },
  {
   "cell_type": "code",
   "execution_count": 25,
   "id": "910c8053-8522-4002-ae7d-6c7462390ade",
   "metadata": {},
   "outputs": [
    {
     "ename": "TypeError",
     "evalue": "can only concatenate list (not \"str\") to list",
     "output_type": "error",
     "traceback": [
      "\u001b[0;31m---------------------------------------------------------------------------\u001b[0m",
      "\u001b[0;31mTypeError\u001b[0m                                 Traceback (most recent call last)",
      "Cell \u001b[0;32mIn[25], line 1\u001b[0m\n\u001b[0;32m----> 1\u001b[0m \u001b[43ml\u001b[49m\u001b[38;5;241;43m+\u001b[39;49m\u001b[43ms\u001b[49m\n",
      "\u001b[0;31mTypeError\u001b[0m: can only concatenate list (not \"str\") to list"
     ]
    }
   ],
   "source": [
    "l+s"
   ]
  },
  {
   "cell_type": "code",
   "execution_count": 26,
   "id": "fbf869ad-b7cc-413e-8f35-0ec41dd9cca3",
   "metadata": {},
   "outputs": [
    {
     "data": {
      "text/plain": [
       "['p', 'w', 's', 'k', 'i', 'l', 'l', 's']"
      ]
     },
     "execution_count": 26,
     "metadata": {},
     "output_type": "execute_result"
    }
   ],
   "source": [
    "list(s)"
   ]
  },
  {
   "cell_type": "code",
   "execution_count": 27,
   "id": "fedeebdc-5464-4eb1-b5aa-e5a6b4bbf3f6",
   "metadata": {},
   "outputs": [
    {
     "data": {
      "text/plain": [
       "['p',\n",
       " 'w',\n",
       " 's',\n",
       " 'k',\n",
       " 'i',\n",
       " 'l',\n",
       " 'l',\n",
       " 's',\n",
       " 1,\n",
       " 345,\n",
       " 45,\n",
       " 'sudh',\n",
       " True,\n",
       " (5+7j),\n",
       " 345.456]"
      ]
     },
     "execution_count": 27,
     "metadata": {},
     "output_type": "execute_result"
    }
   ],
   "source": [
    "list(s) + l"
   ]
  },
  {
   "cell_type": "code",
   "execution_count": 28,
   "id": "a23f1e18-d5f8-4653-a2a4-bbb2faacacde",
   "metadata": {},
   "outputs": [
    {
     "data": {
      "text/plain": [
       "\"[1, 345, 45, 'sudh', True, (5+7j), 345.456]pwskills\""
      ]
     },
     "execution_count": 28,
     "metadata": {},
     "output_type": "execute_result"
    }
   ],
   "source": [
    "str(l) + s"
   ]
  },
  {
   "cell_type": "code",
   "execution_count": 29,
   "id": "30e0178a-9d5a-43b3-89d6-9f5f755fbe85",
   "metadata": {},
   "outputs": [
    {
     "data": {
      "text/plain": [
       "[1, 345, 45, 'sudh', True, (5+7j), 345.456]"
      ]
     },
     "execution_count": 29,
     "metadata": {},
     "output_type": "execute_result"
    }
   ],
   "source": [
    "l"
   ]
  },
  {
   "cell_type": "code",
   "execution_count": 30,
   "id": "9c9fbe18-76d2-4339-af76-5e0406c28126",
   "metadata": {},
   "outputs": [
    {
     "data": {
      "text/plain": [
       "'sudh'"
      ]
     },
     "execution_count": 30,
     "metadata": {},
     "output_type": "execute_result"
    }
   ],
   "source": [
    "l[3]"
   ]
  },
  {
   "cell_type": "code",
   "execution_count": 33,
   "id": "000112bd-1553-4fc2-9346-91c3ae40cdb7",
   "metadata": {},
   "outputs": [
    {
     "data": {
      "text/plain": [
       "str"
      ]
     },
     "execution_count": 33,
     "metadata": {},
     "output_type": "execute_result"
    }
   ],
   "source": [
    "type(l[3])"
   ]
  },
  {
   "cell_type": "code",
   "execution_count": 34,
   "id": "c00b0471-7a6e-4644-99d3-c6f4ef026573",
   "metadata": {},
   "outputs": [
    {
     "data": {
      "text/plain": [
       "'su'"
      ]
     },
     "execution_count": 34,
     "metadata": {},
     "output_type": "execute_result"
    }
   ],
   "source": [
    "l[3][0:2]"
   ]
  },
  {
   "cell_type": "code",
   "execution_count": 35,
   "id": "0f5f8f4e-bc0b-4f56-b759-bff91cc696a6",
   "metadata": {},
   "outputs": [
    {
     "data": {
      "text/plain": [
       "True"
      ]
     },
     "execution_count": 35,
     "metadata": {},
     "output_type": "execute_result"
    }
   ],
   "source": [
    "l[4]"
   ]
  },
  {
   "cell_type": "code",
   "execution_count": 39,
   "id": "c9b12aaf-e126-464a-a726-0e8354c08199",
   "metadata": {},
   "outputs": [
    {
     "data": {
      "text/plain": [
       "'Tr'"
      ]
     },
     "execution_count": 39,
     "metadata": {},
     "output_type": "execute_result"
    }
   ],
   "source": [
    "str(l[4])[0:2]"
   ]
  },
  {
   "cell_type": "code",
   "execution_count": 42,
   "id": "b6b0d394-dd66-47a7-b518-45c0f748ae1d",
   "metadata": {},
   "outputs": [
    {
     "data": {
      "text/plain": [
       "[1, 345, 45, 'sudh', True, (5+7j), 345.456, 5]"
      ]
     },
     "execution_count": 42,
     "metadata": {},
     "output_type": "execute_result"
    }
   ],
   "source": [
    "l + [5]"
   ]
  },
  {
   "cell_type": "code",
   "execution_count": 46,
   "id": "6637746b-d4b8-41fa-a7a1-876f46ecf6f6",
   "metadata": {},
   "outputs": [],
   "source": [
    "l1 =[3,4,5]"
   ]
  },
  {
   "cell_type": "code",
   "execution_count": 47,
   "id": "4421f0cf-a094-46ca-a492-8c0fe197acf4",
   "metadata": {},
   "outputs": [
    {
     "data": {
      "text/plain": [
       "[1, 345, 45, 'sudh', True, (5+7j), 345.456, 3, 4, 5]"
      ]
     },
     "execution_count": 47,
     "metadata": {},
     "output_type": "execute_result"
    }
   ],
   "source": [
    "l + l1"
   ]
  },
  {
   "cell_type": "code",
   "execution_count": 48,
   "id": "bab1730d-b1ab-416b-80bb-02859f3229c0",
   "metadata": {},
   "outputs": [
    {
     "data": {
      "text/plain": [
       "[3, 4, 5, 3, 4, 5, 3, 4, 5]"
      ]
     },
     "execution_count": 48,
     "metadata": {},
     "output_type": "execute_result"
    }
   ],
   "source": [
    "l1*3"
   ]
  },
  {
   "cell_type": "code",
   "execution_count": 49,
   "id": "f5d4f183-3ee8-4fa9-a373-37c2369d423a",
   "metadata": {},
   "outputs": [
    {
     "data": {
      "text/plain": [
       "7"
      ]
     },
     "execution_count": 49,
     "metadata": {},
     "output_type": "execute_result"
    }
   ],
   "source": [
    "len(l)"
   ]
  },
  {
   "cell_type": "code",
   "execution_count": 50,
   "id": "c285097d-2083-4d38-900d-70c87b8fa6b0",
   "metadata": {},
   "outputs": [
    {
     "data": {
      "text/plain": [
       "3"
      ]
     },
     "execution_count": 50,
     "metadata": {},
     "output_type": "execute_result"
    }
   ],
   "source": [
    "len(l1)"
   ]
  },
  {
   "cell_type": "code",
   "execution_count": 51,
   "id": "a6423e97-68ab-49c0-bca3-f44c8059f84b",
   "metadata": {},
   "outputs": [],
   "source": [
    "l.append(5)"
   ]
  },
  {
   "cell_type": "code",
   "execution_count": 52,
   "id": "b472cfc3-78d4-4830-8b6d-1c8362a7c648",
   "metadata": {},
   "outputs": [
    {
     "data": {
      "text/plain": [
       "[1, 345, 45, 'sudh', True, (5+7j), 345.456, 5]"
      ]
     },
     "execution_count": 52,
     "metadata": {},
     "output_type": "execute_result"
    }
   ],
   "source": [
    "l"
   ]
  },
  {
   "cell_type": "code",
   "execution_count": 53,
   "id": "51b606fb-b692-4993-a3f4-be3fb4190907",
   "metadata": {},
   "outputs": [
    {
     "data": {
      "text/plain": [
       "[1, 345, 45, 'sudh', True, (5+7j), 345.456, 5]"
      ]
     },
     "execution_count": 53,
     "metadata": {},
     "output_type": "execute_result"
    }
   ],
   "source": [
    "l"
   ]
  },
  {
   "cell_type": "code",
   "execution_count": 54,
   "id": "1e9527b8-54e2-4167-bf79-af8a49c33976",
   "metadata": {},
   "outputs": [
    {
     "data": {
      "text/plain": [
       "'pwskills'"
      ]
     },
     "execution_count": 54,
     "metadata": {},
     "output_type": "execute_result"
    }
   ],
   "source": [
    "s"
   ]
  },
  {
   "cell_type": "code",
   "execution_count": 55,
   "id": "526ca386-bd67-4bb5-9fdb-2a46028df506",
   "metadata": {},
   "outputs": [],
   "source": [
    "l.append(s)"
   ]
  },
  {
   "cell_type": "code",
   "execution_count": 56,
   "id": "167acf0e-4414-46bb-8b87-eb30dd53b732",
   "metadata": {},
   "outputs": [
    {
     "data": {
      "text/plain": [
       "[1, 345, 45, 'sudh', True, (5+7j), 345.456, 5, 'pwskills']"
      ]
     },
     "execution_count": 56,
     "metadata": {},
     "output_type": "execute_result"
    }
   ],
   "source": [
    "l"
   ]
  },
  {
   "cell_type": "code",
   "execution_count": 57,
   "id": "757ffca2-f833-4ac4-9b28-17807cf098c4",
   "metadata": {},
   "outputs": [],
   "source": [
    "l.append(l1)"
   ]
  },
  {
   "cell_type": "code",
   "execution_count": 58,
   "id": "f0e1c7ed-3845-4901-bd7b-66d47f6d1145",
   "metadata": {},
   "outputs": [
    {
     "data": {
      "text/plain": [
       "[1, 345, 45, 'sudh', True, (5+7j), 345.456, 5, 'pwskills', [3, 4, 5]]"
      ]
     },
     "execution_count": 58,
     "metadata": {},
     "output_type": "execute_result"
    }
   ],
   "source": [
    "l"
   ]
  },
  {
   "cell_type": "code",
   "execution_count": 60,
   "id": "bfd93a2b-dcb7-42d7-bd63-286fa509803f",
   "metadata": {},
   "outputs": [
    {
     "data": {
      "text/plain": [
       "4"
      ]
     },
     "execution_count": 60,
     "metadata": {},
     "output_type": "execute_result"
    }
   ],
   "source": [
    "l[-1][1]"
   ]
  },
  {
   "cell_type": "code",
   "execution_count": 61,
   "id": "08243558-b817-4891-aa90-301dc636a26e",
   "metadata": {},
   "outputs": [
    {
     "data": {
      "text/plain": [
       "'sk'"
      ]
     },
     "execution_count": 61,
     "metadata": {},
     "output_type": "execute_result"
    }
   ],
   "source": [
    "l[-2][2:4]"
   ]
  },
  {
   "cell_type": "code",
   "execution_count": 62,
   "id": "d72772f1-c90b-4836-8347-760bb3275bf9",
   "metadata": {},
   "outputs": [],
   "source": [
    "l.extend(l1)"
   ]
  },
  {
   "cell_type": "code",
   "execution_count": 63,
   "id": "a2a817c1-89ad-41dd-976d-9410cc96248b",
   "metadata": {},
   "outputs": [
    {
     "data": {
      "text/plain": [
       "[1, 345, 45, 'sudh', True, (5+7j), 345.456, 5, 'pwskills', [3, 4, 5], 3, 4, 5]"
      ]
     },
     "execution_count": 63,
     "metadata": {},
     "output_type": "execute_result"
    }
   ],
   "source": [
    "l"
   ]
  },
  {
   "cell_type": "code",
   "execution_count": 65,
   "id": "5f75893d-8f68-4cc5-9197-285b341922a6",
   "metadata": {},
   "outputs": [],
   "source": [
    "l.extend(\"sudh\")"
   ]
  },
  {
   "cell_type": "code",
   "execution_count": 66,
   "id": "fd960f38-9699-4333-a888-18fff437a4eb",
   "metadata": {},
   "outputs": [
    {
     "data": {
      "text/plain": [
       "[1,\n",
       " 345,\n",
       " 45,\n",
       " 'sudh',\n",
       " True,\n",
       " (5+7j),\n",
       " 345.456,\n",
       " 5,\n",
       " 'pwskills',\n",
       " [3, 4, 5],\n",
       " 3,\n",
       " 4,\n",
       " 5,\n",
       " 's',\n",
       " 'u',\n",
       " 'd',\n",
       " 'h']"
      ]
     },
     "execution_count": 66,
     "metadata": {},
     "output_type": "execute_result"
    }
   ],
   "source": [
    "l"
   ]
  },
  {
   "cell_type": "code",
   "execution_count": 67,
   "id": "6f4cdc6b-f986-4add-8e17-1dfca27bdffb",
   "metadata": {},
   "outputs": [],
   "source": [
    "l.extend(l)"
   ]
  },
  {
   "cell_type": "code",
   "execution_count": 68,
   "id": "3421568e-05fb-4f5d-abb6-05b329dbe626",
   "metadata": {},
   "outputs": [
    {
     "data": {
      "text/plain": [
       "[1,\n",
       " 345,\n",
       " 45,\n",
       " 'sudh',\n",
       " True,\n",
       " (5+7j),\n",
       " 345.456,\n",
       " 5,\n",
       " 'pwskills',\n",
       " [3, 4, 5],\n",
       " 3,\n",
       " 4,\n",
       " 5,\n",
       " 's',\n",
       " 'u',\n",
       " 'd',\n",
       " 'h',\n",
       " 1,\n",
       " 345,\n",
       " 45,\n",
       " 'sudh',\n",
       " True,\n",
       " (5+7j),\n",
       " 345.456,\n",
       " 5,\n",
       " 'pwskills',\n",
       " [3, 4, 5],\n",
       " 3,\n",
       " 4,\n",
       " 5,\n",
       " 's',\n",
       " 'u',\n",
       " 'd',\n",
       " 'h']"
      ]
     },
     "execution_count": 68,
     "metadata": {},
     "output_type": "execute_result"
    }
   ],
   "source": [
    "l"
   ]
  },
  {
   "cell_type": "code",
   "execution_count": 69,
   "id": "30f8597b-78a6-4e1f-913d-ac72e3b9b163",
   "metadata": {},
   "outputs": [
    {
     "data": {
      "text/plain": [
       "[3, 4, 5]"
      ]
     },
     "execution_count": 69,
     "metadata": {},
     "output_type": "execute_result"
    }
   ],
   "source": [
    "l1"
   ]
  },
  {
   "cell_type": "code",
   "execution_count": 72,
   "id": "cc4f8560-121a-4c51-8d44-fd1d7802ed0c",
   "metadata": {},
   "outputs": [],
   "source": [
    "l1.insert(0,\"sudh\")"
   ]
  },
  {
   "cell_type": "code",
   "execution_count": 73,
   "id": "fb084b64-e654-4513-9b39-c86a65d8ac7e",
   "metadata": {},
   "outputs": [
    {
     "data": {
      "text/plain": [
       "['sudh', 3, 4, 5]"
      ]
     },
     "execution_count": 73,
     "metadata": {},
     "output_type": "execute_result"
    }
   ],
   "source": [
    "l1"
   ]
  },
  {
   "cell_type": "code",
   "execution_count": 74,
   "id": "a60ac8be-1c19-41bd-8a1a-aa7a4a23a234",
   "metadata": {},
   "outputs": [],
   "source": [
    "l1.insert(2,[7,8,9])"
   ]
  },
  {
   "cell_type": "code",
   "execution_count": 75,
   "id": "1b93468f-44fa-4e6b-b59d-f7d1b1ec6272",
   "metadata": {},
   "outputs": [
    {
     "data": {
      "text/plain": [
       "['sudh', 3, [7, 8, 9], 4, 5]"
      ]
     },
     "execution_count": 75,
     "metadata": {},
     "output_type": "execute_result"
    }
   ],
   "source": [
    "l1"
   ]
  },
  {
   "cell_type": "code",
   "execution_count": 76,
   "id": "bccf3b28-f224-4c45-9115-9428d4c05fc1",
   "metadata": {},
   "outputs": [],
   "source": [
    "l1.insert(-1,45)"
   ]
  },
  {
   "cell_type": "code",
   "execution_count": 77,
   "id": "e2c1bd02-3285-4c1d-af4e-d1a292398820",
   "metadata": {},
   "outputs": [
    {
     "data": {
      "text/plain": [
       "['sudh', 3, [7, 8, 9], 4, 45, 5]"
      ]
     },
     "execution_count": 77,
     "metadata": {},
     "output_type": "execute_result"
    }
   ],
   "source": [
    "l1"
   ]
  },
  {
   "cell_type": "code",
   "execution_count": 81,
   "id": "16323845-6b00-4538-9e9c-26a6f47b9c42",
   "metadata": {},
   "outputs": [],
   "source": [
    "l1.insert(0,\"sdg\")"
   ]
  },
  {
   "cell_type": "code",
   "execution_count": 82,
   "id": "ead7a4fb-52ea-42e2-b034-51aa4a1c0f4c",
   "metadata": {},
   "outputs": [
    {
     "data": {
      "text/plain": [
       "['sdg', 45, 'sudh', 3, [7, 8, 9], 4, 45, 5]"
      ]
     },
     "execution_count": 82,
     "metadata": {},
     "output_type": "execute_result"
    }
   ],
   "source": [
    "l1"
   ]
  },
  {
   "cell_type": "code",
   "execution_count": 83,
   "id": "cb943089-10af-448c-9858-1d8954986784",
   "metadata": {},
   "outputs": [],
   "source": [
    "l1.remove(\"sdg\")"
   ]
  },
  {
   "cell_type": "code",
   "execution_count": 84,
   "id": "e5ce8473-b0ef-4926-9629-51eaf1422052",
   "metadata": {},
   "outputs": [
    {
     "data": {
      "text/plain": [
       "[45, 'sudh', 3, [7, 8, 9], 4, 45, 5]"
      ]
     },
     "execution_count": 84,
     "metadata": {},
     "output_type": "execute_result"
    }
   ],
   "source": [
    "l1"
   ]
  },
  {
   "cell_type": "code",
   "execution_count": 85,
   "id": "0315ce4b-372d-4253-bf7b-74695b18b575",
   "metadata": {},
   "outputs": [
    {
     "data": {
      "text/plain": [
       "45"
      ]
     },
     "execution_count": 85,
     "metadata": {},
     "output_type": "execute_result"
    }
   ],
   "source": [
    "l1.pop(5)"
   ]
  },
  {
   "cell_type": "code",
   "execution_count": 86,
   "id": "ef1c3a50-1d31-42e8-9158-3c13640d23dd",
   "metadata": {},
   "outputs": [
    {
     "data": {
      "text/plain": [
       "[45, 'sudh', 3, [7, 8, 9], 4, 5]"
      ]
     },
     "execution_count": 86,
     "metadata": {},
     "output_type": "execute_result"
    }
   ],
   "source": [
    "l1"
   ]
  },
  {
   "cell_type": "code",
   "execution_count": 87,
   "id": "b2d33e4d-f669-4cd1-a771-96dbce4d1a86",
   "metadata": {},
   "outputs": [
    {
     "data": {
      "text/plain": [
       "3"
      ]
     },
     "execution_count": 87,
     "metadata": {},
     "output_type": "execute_result"
    }
   ],
   "source": [
    "l1.pop(2)"
   ]
  },
  {
   "cell_type": "code",
   "execution_count": 88,
   "id": "25cfd759-d4ca-417c-a609-dd87346289a6",
   "metadata": {},
   "outputs": [
    {
     "data": {
      "text/plain": [
       "[45, 'sudh', [7, 8, 9], 4, 5]"
      ]
     },
     "execution_count": 88,
     "metadata": {},
     "output_type": "execute_result"
    }
   ],
   "source": [
    "l1"
   ]
  },
  {
   "cell_type": "code",
   "execution_count": 89,
   "id": "f5438a42-2ff2-4a30-b066-6a649932bab7",
   "metadata": {},
   "outputs": [],
   "source": [
    "l1.insert(1,3)"
   ]
  },
  {
   "cell_type": "code",
   "execution_count": 90,
   "id": "ae10ec66-10d4-4ca8-81a5-f39156eb68eb",
   "metadata": {},
   "outputs": [
    {
     "data": {
      "text/plain": [
       "[45, 3, 'sudh', [7, 8, 9], 4, 5]"
      ]
     },
     "execution_count": 90,
     "metadata": {},
     "output_type": "execute_result"
    }
   ],
   "source": [
    "l1"
   ]
  },
  {
   "cell_type": "code",
   "execution_count": 92,
   "id": "be806425-bec3-4b7f-b2a4-2d3f0e537400",
   "metadata": {},
   "outputs": [
    {
     "data": {
      "text/plain": [
       "5"
      ]
     },
     "execution_count": 92,
     "metadata": {},
     "output_type": "execute_result"
    }
   ],
   "source": [
    "l1.pop()"
   ]
  },
  {
   "cell_type": "code",
   "execution_count": 93,
   "id": "f5cd6f9e-9c5a-43f8-b3c4-0a3b897ed815",
   "metadata": {},
   "outputs": [
    {
     "data": {
      "text/plain": [
       "[45, 3, 'sudh', [7, 8, 9], 4]"
      ]
     },
     "execution_count": 93,
     "metadata": {},
     "output_type": "execute_result"
    }
   ],
   "source": [
    "l1"
   ]
  },
  {
   "cell_type": "code",
   "execution_count": 94,
   "id": "382b11a6-becb-48d7-b95f-69f3bf40c768",
   "metadata": {},
   "outputs": [],
   "source": [
    "l1.remove(45)"
   ]
  },
  {
   "cell_type": "code",
   "execution_count": 95,
   "id": "e1e8183d-a867-435e-91b2-3615997dd235",
   "metadata": {},
   "outputs": [
    {
     "data": {
      "text/plain": [
       "[3, 'sudh', [7, 8, 9], 4]"
      ]
     },
     "execution_count": 95,
     "metadata": {},
     "output_type": "execute_result"
    }
   ],
   "source": [
    "l1"
   ]
  },
  {
   "cell_type": "code",
   "execution_count": 96,
   "id": "875e631c-a8ab-4ca7-be65-38e10d441d49",
   "metadata": {},
   "outputs": [],
   "source": [
    "l1.insert(0,45)"
   ]
  },
  {
   "cell_type": "code",
   "execution_count": 97,
   "id": "bc4badd7-0654-4c5d-912c-5d8eeab9d277",
   "metadata": {},
   "outputs": [
    {
     "data": {
      "text/plain": [
       "[45, 3, 'sudh', [7, 8, 9], 4]"
      ]
     },
     "execution_count": 97,
     "metadata": {},
     "output_type": "execute_result"
    }
   ],
   "source": [
    "l1"
   ]
  },
  {
   "cell_type": "code",
   "execution_count": 101,
   "id": "1149c69d-9b8b-453a-bd3b-1457904ae9e3",
   "metadata": {},
   "outputs": [],
   "source": [
    "l1[3].remove(8)"
   ]
  },
  {
   "cell_type": "code",
   "execution_count": 102,
   "id": "9718508a-16fd-4893-b773-cd394ee71a45",
   "metadata": {},
   "outputs": [
    {
     "data": {
      "text/plain": [
       "[45, 3, 'sudh', [7, 9], 4]"
      ]
     },
     "execution_count": 102,
     "metadata": {},
     "output_type": "execute_result"
    }
   ],
   "source": [
    "l1"
   ]
  },
  {
   "cell_type": "code",
   "execution_count": 103,
   "id": "608e543a-e361-4306-bb1b-5874938a9a9a",
   "metadata": {},
   "outputs": [
    {
     "ename": "SyntaxError",
     "evalue": "invalid syntax (2152855189.py, line 1)",
     "output_type": "error",
     "traceback": [
      "\u001b[0;36m  Cell \u001b[0;32mIn[103], line 1\u001b[0;36m\u001b[0m\n\u001b[0;31m    l1.[2].remove(\"dh\")\u001b[0m\n\u001b[0m       ^\u001b[0m\n\u001b[0;31mSyntaxError\u001b[0m\u001b[0;31m:\u001b[0m invalid syntax\n"
     ]
    }
   ],
   "source": [
    "l1.[2].remove(\"dh\")"
   ]
  },
  {
   "cell_type": "code",
   "execution_count": 104,
   "id": "723cb431-5a63-4070-b793-adfe8a428b38",
   "metadata": {},
   "outputs": [],
   "source": [
    "l1.append(4)"
   ]
  },
  {
   "cell_type": "code",
   "execution_count": 105,
   "id": "3a1b5241-3f3c-4936-8ac1-6462e013371c",
   "metadata": {},
   "outputs": [
    {
     "data": {
      "text/plain": [
       "[45, 3, 'sudh', [7, 9], 4, 4]"
      ]
     },
     "execution_count": 105,
     "metadata": {},
     "output_type": "execute_result"
    }
   ],
   "source": [
    "l1"
   ]
  },
  {
   "cell_type": "code",
   "execution_count": 107,
   "id": "d292b998-4353-4d6b-bde0-d863b33dc94b",
   "metadata": {},
   "outputs": [],
   "source": [
    "l1.remove(4)"
   ]
  },
  {
   "cell_type": "code",
   "execution_count": 109,
   "id": "5fba68c6-e7ca-48ef-bc21-29e18a1f7d62",
   "metadata": {},
   "outputs": [
    {
     "data": {
      "text/plain": [
       "[45, 3, 'sudh', [7, 9]]"
      ]
     },
     "execution_count": 109,
     "metadata": {},
     "output_type": "execute_result"
    }
   ],
   "source": [
    "l1"
   ]
  },
  {
   "cell_type": "code",
   "execution_count": 110,
   "id": "2b75d701-fa7f-4960-8f11-9bbc67efa9c8",
   "metadata": {},
   "outputs": [],
   "source": [
    "l1.reverse()"
   ]
  },
  {
   "cell_type": "code",
   "execution_count": 111,
   "id": "589552d5-c40d-470d-9229-fe4ebba024c7",
   "metadata": {},
   "outputs": [
    {
     "data": {
      "text/plain": [
       "[[7, 9], 'sudh', 3, 45]"
      ]
     },
     "execution_count": 111,
     "metadata": {},
     "output_type": "execute_result"
    }
   ],
   "source": [
    "l1"
   ]
  },
  {
   "cell_type": "code",
   "execution_count": 112,
   "id": "55b88357-3956-4c87-9601-5f3b7612e1a9",
   "metadata": {},
   "outputs": [
    {
     "data": {
      "text/plain": [
       "[45, 3, 'sudh', [7, 9]]"
      ]
     },
     "execution_count": 112,
     "metadata": {},
     "output_type": "execute_result"
    }
   ],
   "source": [
    "l1[::-1]"
   ]
  },
  {
   "cell_type": "code",
   "execution_count": 117,
   "id": "8f99d095-6c82-473d-a8a6-3d7511c14472",
   "metadata": {},
   "outputs": [],
   "source": [
    "l2 = [3,4,5,6,7,8,9,2]"
   ]
  },
  {
   "cell_type": "code",
   "execution_count": 118,
   "id": "42c6f028-9185-4012-84da-6227ff1722a1",
   "metadata": {},
   "outputs": [],
   "source": [
    "l2.sort()"
   ]
  },
  {
   "cell_type": "code",
   "execution_count": 119,
   "id": "7ac2dc1a-7bde-418b-acf0-bebef0851d4f",
   "metadata": {},
   "outputs": [
    {
     "data": {
      "text/plain": [
       "[2, 3, 4, 5, 6, 7, 8, 9]"
      ]
     },
     "execution_count": 119,
     "metadata": {},
     "output_type": "execute_result"
    }
   ],
   "source": [
    "l2"
   ]
  },
  {
   "cell_type": "code",
   "execution_count": 120,
   "id": "8b2c8da4-e746-4bbc-8264-45db66cb63b3",
   "metadata": {},
   "outputs": [],
   "source": [
    "l3=[34,\"sudh\",45,12,\"kumar\"]"
   ]
  },
  {
   "cell_type": "code",
   "execution_count": 121,
   "id": "bc26103e-d3d6-4c8b-b905-9ffc9f920f09",
   "metadata": {},
   "outputs": [
    {
     "ename": "TypeError",
     "evalue": "'<' not supported between instances of 'str' and 'int'",
     "output_type": "error",
     "traceback": [
      "\u001b[0;31m---------------------------------------------------------------------------\u001b[0m",
      "\u001b[0;31mTypeError\u001b[0m                                 Traceback (most recent call last)",
      "Cell \u001b[0;32mIn[121], line 1\u001b[0m\n\u001b[0;32m----> 1\u001b[0m \u001b[43ml3\u001b[49m\u001b[38;5;241;43m.\u001b[39;49m\u001b[43msort\u001b[49m\u001b[43m(\u001b[49m\u001b[43m)\u001b[49m\n",
      "\u001b[0;31mTypeError\u001b[0m: '<' not supported between instances of 'str' and 'int'"
     ]
    }
   ],
   "source": [
    "l3.sort()"
   ]
  },
  {
   "cell_type": "code",
   "execution_count": 122,
   "id": "a161d3a2-193b-4334-bdf9-d413a178d881",
   "metadata": {},
   "outputs": [],
   "source": [
    "l4 = [\"sudh\",\"kumar\",\"pwskills\",\"data science\"]"
   ]
  },
  {
   "cell_type": "code",
   "execution_count": 123,
   "id": "12f12df7-dcf8-4c8c-bdb0-aeca65365ec2",
   "metadata": {},
   "outputs": [],
   "source": [
    "l4.sort()"
   ]
  },
  {
   "cell_type": "code",
   "execution_count": 124,
   "id": "77e5258d-8694-4882-8e03-562b3d83ff46",
   "metadata": {},
   "outputs": [
    {
     "data": {
      "text/plain": [
       "['data science', 'kumar', 'pwskills', 'sudh']"
      ]
     },
     "execution_count": 124,
     "metadata": {},
     "output_type": "execute_result"
    }
   ],
   "source": [
    "l4"
   ]
  },
  {
   "cell_type": "code",
   "execution_count": 129,
   "id": "cc035eeb-b085-4282-88da-870bcf5b6fb5",
   "metadata": {},
   "outputs": [],
   "source": [
    "l4.sort(reverse=True)"
   ]
  },
  {
   "cell_type": "code",
   "execution_count": 130,
   "id": "a1c9b8e4-fc95-4d77-b28d-2664858e1361",
   "metadata": {},
   "outputs": [
    {
     "data": {
      "text/plain": [
       "['sudh', 'pwskills', 'kumar', 'data science']"
      ]
     },
     "execution_count": 130,
     "metadata": {},
     "output_type": "execute_result"
    }
   ],
   "source": [
    "l4"
   ]
  },
  {
   "cell_type": "code",
   "execution_count": 132,
   "id": "83490bb6-136b-4d2a-ae02-8ab687b37cce",
   "metadata": {},
   "outputs": [
    {
     "data": {
      "text/plain": [
       "2"
      ]
     },
     "execution_count": 132,
     "metadata": {},
     "output_type": "execute_result"
    }
   ],
   "source": [
    "l4.index(\"kumar\")"
   ]
  },
  {
   "cell_type": "code",
   "execution_count": 133,
   "id": "162b2a6a-b1db-4760-8f45-bf917847cf48",
   "metadata": {},
   "outputs": [
    {
     "data": {
      "text/plain": [
       "0"
      ]
     },
     "execution_count": 133,
     "metadata": {},
     "output_type": "execute_result"
    }
   ],
   "source": [
    "l4.count(\"count\")"
   ]
  },
  {
   "cell_type": "code",
   "execution_count": 134,
   "id": "96316490-03a4-4f07-8f16-a8783353398c",
   "metadata": {},
   "outputs": [],
   "source": [
    "s = \"sudh\""
   ]
  },
  {
   "cell_type": "code",
   "execution_count": 135,
   "id": "5e1f9491-9819-4571-8349-01516a10a903",
   "metadata": {},
   "outputs": [],
   "source": [
    "l5 = [3,8,5,6,7]"
   ]
  },
  {
   "cell_type": "code",
   "execution_count": 136,
   "id": "b21ebe0a-1809-4787-b021-8974c0c23801",
   "metadata": {},
   "outputs": [
    {
     "data": {
      "text/plain": [
       "'s'"
      ]
     },
     "execution_count": 136,
     "metadata": {},
     "output_type": "execute_result"
    }
   ],
   "source": [
    "s[0]"
   ]
  },
  {
   "cell_type": "code",
   "execution_count": 137,
   "id": "ad63a4b9-82d4-4bfb-9614-fcf2276f1aac",
   "metadata": {},
   "outputs": [
    {
     "ename": "TypeError",
     "evalue": "'str' object does not support item assignment",
     "output_type": "error",
     "traceback": [
      "\u001b[0;31m---------------------------------------------------------------------------\u001b[0m",
      "\u001b[0;31mTypeError\u001b[0m                                 Traceback (most recent call last)",
      "Cell \u001b[0;32mIn[137], line 1\u001b[0m\n\u001b[0;32m----> 1\u001b[0m \u001b[43ms\u001b[49m\u001b[43m[\u001b[49m\u001b[38;5;241;43m0\u001b[39;49m\u001b[43m]\u001b[49m\u001b[38;5;241m=\u001b[39m \u001b[38;5;124m\"\u001b[39m\u001b[38;5;124ma\u001b[39m\u001b[38;5;124m\"\u001b[39m\n",
      "\u001b[0;31mTypeError\u001b[0m: 'str' object does not support item assignment"
     ]
    }
   ],
   "source": [
    "s[0]= \"a\""
   ]
  },
  {
   "cell_type": "code",
   "execution_count": 138,
   "id": "82a65f5e-6b2c-4fe5-bb1a-076cd283fe3b",
   "metadata": {},
   "outputs": [
    {
     "data": {
      "text/plain": [
       "3"
      ]
     },
     "execution_count": 138,
     "metadata": {},
     "output_type": "execute_result"
    }
   ],
   "source": [
    "l5[0]"
   ]
  },
  {
   "cell_type": "code",
   "execution_count": 139,
   "id": "b2233226-0905-4e63-9c24-75d0ad311c49",
   "metadata": {},
   "outputs": [],
   "source": [
    "l5[0] = 30"
   ]
  },
  {
   "cell_type": "code",
   "execution_count": 140,
   "id": "df4aab87-7efb-42c8-a5a6-b65b26dc59e7",
   "metadata": {},
   "outputs": [
    {
     "data": {
      "text/plain": [
       "[30, 8, 5, 6, 7]"
      ]
     },
     "execution_count": 140,
     "metadata": {},
     "output_type": "execute_result"
    }
   ],
   "source": [
    "l5"
   ]
  },
  {
   "cell_type": "code",
   "execution_count": 141,
   "id": "d65f8e72-396a-4087-883b-7fef7e1f5af4",
   "metadata": {},
   "outputs": [
    {
     "data": {
      "text/plain": [
       "['sudh', 'pwskills', 'kumar', 'data science']"
      ]
     },
     "execution_count": 141,
     "metadata": {},
     "output_type": "execute_result"
    }
   ],
   "source": [
    "l4"
   ]
  },
  {
   "cell_type": "code",
   "execution_count": 144,
   "id": "6aa7503b-1ad2-4204-8111-cf9930c56d10",
   "metadata": {},
   "outputs": [],
   "source": [
    "l4[1] = \"3\""
   ]
  },
  {
   "cell_type": "code",
   "execution_count": 145,
   "id": "c11fe5db-c598-4285-96a0-88587d882afa",
   "metadata": {},
   "outputs": [
    {
     "data": {
      "text/plain": [
       "['sudh', '3', 'kumar', 'data science']"
      ]
     },
     "execution_count": 145,
     "metadata": {},
     "output_type": "execute_result"
    }
   ],
   "source": [
    "l4"
   ]
  },
  {
   "cell_type": "code",
   "execution_count": 146,
   "id": "05705465-4f4e-4177-960d-4c7ece644d2f",
   "metadata": {},
   "outputs": [
    {
     "data": {
      "text/plain": [
       "[30, 8, 5, 6, 7]"
      ]
     },
     "execution_count": 146,
     "metadata": {},
     "output_type": "execute_result"
    }
   ],
   "source": [
    "l5"
   ]
  },
  {
   "cell_type": "code",
   "execution_count": 150,
   "id": "690f8946-753e-49da-8f76-e2a9cc565876",
   "metadata": {},
   "outputs": [],
   "source": [
    "l5[1] = 9"
   ]
  },
  {
   "cell_type": "code",
   "execution_count": 151,
   "id": "13fe2c50-a70d-445d-8409-9ec87396aea7",
   "metadata": {},
   "outputs": [
    {
     "data": {
      "text/plain": [
       "[30, 9, 5, 6, 7]"
      ]
     },
     "execution_count": 151,
     "metadata": {},
     "output_type": "execute_result"
    }
   ],
   "source": [
    "l5"
   ]
  },
  {
   "cell_type": "code",
   "execution_count": 152,
   "id": "67e5f1b8-0024-4276-bbb1-de10da1fd0c9",
   "metadata": {},
   "outputs": [],
   "source": [
    "l5.sort()"
   ]
  },
  {
   "cell_type": "code",
   "execution_count": 153,
   "id": "6ce434df-82df-49d7-80a2-d79543e6b416",
   "metadata": {},
   "outputs": [
    {
     "data": {
      "text/plain": [
       "[5, 6, 7, 9, 30]"
      ]
     },
     "execution_count": 153,
     "metadata": {},
     "output_type": "execute_result"
    }
   ],
   "source": [
    "l5"
   ]
  },
  {
   "cell_type": "code",
   "execution_count": 154,
   "id": "a39e95bc-a039-4cd6-a889-18499606bd86",
   "metadata": {},
   "outputs": [
    {
     "data": {
      "text/plain": [
       "'sudh'"
      ]
     },
     "execution_count": 154,
     "metadata": {},
     "output_type": "execute_result"
    }
   ],
   "source": [
    "s"
   ]
  },
  {
   "cell_type": "code",
   "execution_count": 155,
   "id": "285d6258-0781-46a2-b80b-4e64dd14c676",
   "metadata": {},
   "outputs": [
    {
     "data": {
      "text/plain": [
       "'audh'"
      ]
     },
     "execution_count": 155,
     "metadata": {},
     "output_type": "execute_result"
    }
   ],
   "source": [
    "s.replace('s','a')"
   ]
  },
  {
   "cell_type": "code",
   "execution_count": 156,
   "id": "936343cf-a05d-4d18-9108-8fd9c9b9a821",
   "metadata": {},
   "outputs": [
    {
     "data": {
      "text/plain": [
       "'sudh'"
      ]
     },
     "execution_count": 156,
     "metadata": {},
     "output_type": "execute_result"
    }
   ],
   "source": [
    "s"
   ]
  },
  {
   "cell_type": "code",
   "execution_count": 161,
   "id": "639aacd7-82e5-407e-8b41-bbda31be08e9",
   "metadata": {},
   "outputs": [],
   "source": [
    "t =(2,3,4,5,6,\"sudh\",45.56,False,45+56j,[3,4,5])"
   ]
  },
  {
   "cell_type": "code",
   "execution_count": 162,
   "id": "09ad7df8-9c80-4807-b713-7f2fd24f118c",
   "metadata": {},
   "outputs": [
    {
     "data": {
      "text/plain": [
       "(2, 3, 4, 5, 6, 'sudh', 45.56, False, (45+56j), [3, 4, 5])"
      ]
     },
     "execution_count": 162,
     "metadata": {},
     "output_type": "execute_result"
    }
   ],
   "source": [
    "t"
   ]
  },
  {
   "cell_type": "code",
   "execution_count": 163,
   "id": "132feca4-7cda-4c68-84aa-d077171ed64e",
   "metadata": {},
   "outputs": [
    {
     "data": {
      "text/plain": [
       "tuple"
      ]
     },
     "execution_count": 163,
     "metadata": {},
     "output_type": "execute_result"
    }
   ],
   "source": [
    "type(t)"
   ]
  },
  {
   "cell_type": "code",
   "execution_count": 164,
   "id": "4a8f8dc4-8c32-425b-a129-5942450f682b",
   "metadata": {},
   "outputs": [
    {
     "data": {
      "text/plain": [
       "10"
      ]
     },
     "execution_count": 164,
     "metadata": {},
     "output_type": "execute_result"
    }
   ],
   "source": [
    "len(t)"
   ]
  },
  {
   "cell_type": "code",
   "execution_count": 167,
   "id": "71716f82-27af-4ae5-bbcf-12438ea9395f",
   "metadata": {},
   "outputs": [
    {
     "data": {
      "text/plain": [
       "2"
      ]
     },
     "execution_count": 167,
     "metadata": {},
     "output_type": "execute_result"
    }
   ],
   "source": [
    "t[0]"
   ]
  },
  {
   "cell_type": "code",
   "execution_count": 168,
   "id": "6735dc0d-c569-4a3e-8b0a-f8ea33de8957",
   "metadata": {},
   "outputs": [
    {
     "data": {
      "text/plain": [
       "[3, 4, 5]"
      ]
     },
     "execution_count": 168,
     "metadata": {},
     "output_type": "execute_result"
    }
   ],
   "source": [
    "t[-1]"
   ]
  },
  {
   "cell_type": "code",
   "execution_count": 169,
   "id": "346477ab-6fa4-4919-baaa-830bce8d6c01",
   "metadata": {},
   "outputs": [
    {
     "data": {
      "text/plain": [
       "([3, 4, 5], (45+56j), False, 45.56, 'sudh', 6, 5, 4, 3, 2)"
      ]
     },
     "execution_count": 169,
     "metadata": {},
     "output_type": "execute_result"
    }
   ],
   "source": [
    "t[::-1]"
   ]
  },
  {
   "cell_type": "code",
   "execution_count": 170,
   "id": "a3338b6b-4def-41e0-af50-3fabe8542050",
   "metadata": {},
   "outputs": [
    {
     "data": {
      "text/plain": [
       "['sudh', '3', 'kumar', 'data science']"
      ]
     },
     "execution_count": 170,
     "metadata": {},
     "output_type": "execute_result"
    }
   ],
   "source": [
    "l4"
   ]
  },
  {
   "cell_type": "code",
   "execution_count": 171,
   "id": "10242423-4903-44c4-8758-7c78c3761b9d",
   "metadata": {},
   "outputs": [
    {
     "data": {
      "text/plain": [
       "'sudh'"
      ]
     },
     "execution_count": 171,
     "metadata": {},
     "output_type": "execute_result"
    }
   ],
   "source": [
    "l4[0]"
   ]
  },
  {
   "cell_type": "code",
   "execution_count": 172,
   "id": "60cc76e4-a938-411c-a61a-b09ea2784994",
   "metadata": {},
   "outputs": [],
   "source": [
    "l4[0] = 23654"
   ]
  },
  {
   "cell_type": "code",
   "execution_count": 173,
   "id": "18b65620-0e85-4a3c-b2c5-882db40fb708",
   "metadata": {},
   "outputs": [
    {
     "data": {
      "text/plain": [
       "[23654, '3', 'kumar', 'data science']"
      ]
     },
     "execution_count": 173,
     "metadata": {},
     "output_type": "execute_result"
    }
   ],
   "source": [
    "l4"
   ]
  },
  {
   "cell_type": "code",
   "execution_count": 174,
   "id": "00824f27-74dd-4373-9124-365cd3d64f45",
   "metadata": {},
   "outputs": [
    {
     "data": {
      "text/plain": [
       "(2, 3, 4, 5, 6, 'sudh', 45.56, False, (45+56j), [3, 4, 5])"
      ]
     },
     "execution_count": 174,
     "metadata": {},
     "output_type": "execute_result"
    }
   ],
   "source": [
    "t"
   ]
  },
  {
   "cell_type": "code",
   "execution_count": 176,
   "id": "48ed2429-33d0-423c-9330-db8efe6b3d63",
   "metadata": {},
   "outputs": [
    {
     "ename": "TypeError",
     "evalue": "'tuple' object does not support item assignment",
     "output_type": "error",
     "traceback": [
      "\u001b[0;31m---------------------------------------------------------------------------\u001b[0m",
      "\u001b[0;31mTypeError\u001b[0m                                 Traceback (most recent call last)",
      "Cell \u001b[0;32mIn[176], line 1\u001b[0m\n\u001b[0;32m----> 1\u001b[0m \u001b[43mt\u001b[49m\u001b[43m[\u001b[49m\u001b[38;5;241;43m0\u001b[39;49m\u001b[43m]\u001b[49m \u001b[38;5;241m=\u001b[39m \u001b[38;5;124m\"\u001b[39m\u001b[38;5;124msudh\u001b[39m\u001b[38;5;124m\"\u001b[39m\n",
      "\u001b[0;31mTypeError\u001b[0m: 'tuple' object does not support item assignment"
     ]
    }
   ],
   "source": [
    "t[0] = \"sudh\""
   ]
  },
  {
   "cell_type": "code",
   "execution_count": 177,
   "id": "cdaa39a3-8dd3-4a9a-8653-f819facdc5d3",
   "metadata": {},
   "outputs": [
    {
     "data": {
      "text/plain": [
       "2"
      ]
     },
     "execution_count": 177,
     "metadata": {},
     "output_type": "execute_result"
    }
   ],
   "source": [
    "t[0]"
   ]
  },
  {
   "cell_type": "code",
   "execution_count": 179,
   "id": "7dc353ec-6de3-4f2e-8e02-025e35d55350",
   "metadata": {},
   "outputs": [
    {
     "data": {
      "text/plain": [
       "([3, 4, 5], (45+56j), False, 45.56, 'sudh', 6, 5, 4, 3, 2)"
      ]
     },
     "execution_count": 179,
     "metadata": {},
     "output_type": "execute_result"
    }
   ],
   "source": [
    "t[::-1]"
   ]
  },
  {
   "cell_type": "code",
   "execution_count": 183,
   "id": "519f846c-d5d6-4365-be31-04e45f74f334",
   "metadata": {},
   "outputs": [
    {
     "data": {
      "text/plain": [
       "1"
      ]
     },
     "execution_count": 183,
     "metadata": {},
     "output_type": "execute_result"
    }
   ],
   "source": [
    "t.count(\"sudh\")"
   ]
  },
  {
   "cell_type": "code",
   "execution_count": 184,
   "id": "b8970202-e284-433b-92e4-6f6bc3b07716",
   "metadata": {},
   "outputs": [
    {
     "data": {
      "text/plain": [
       "(2, 3, 4, 5, 6, 'sudh', 45.56, False, (45+56j), [3, 4, 5])"
      ]
     },
     "execution_count": 184,
     "metadata": {},
     "output_type": "execute_result"
    }
   ],
   "source": [
    "t"
   ]
  },
  {
   "cell_type": "code",
   "execution_count": 185,
   "id": "c58a5565-654e-4714-aa41-69ec103297a4",
   "metadata": {},
   "outputs": [
    {
     "data": {
      "text/plain": [
       "2"
      ]
     },
     "execution_count": 185,
     "metadata": {},
     "output_type": "execute_result"
    }
   ],
   "source": [
    "t.index(4)"
   ]
  },
  {
   "cell_type": "code",
   "execution_count": 186,
   "id": "945da0a7-82cf-473d-876c-0ff7685a3beb",
   "metadata": {},
   "outputs": [
    {
     "data": {
      "text/plain": [
       "tuple"
      ]
     },
     "execution_count": 186,
     "metadata": {},
     "output_type": "execute_result"
    }
   ],
   "source": [
    "type(t)"
   ]
  },
  {
   "cell_type": "code",
   "execution_count": 187,
   "id": "50faedda-a6f6-4e52-91f6-b55e77e19079",
   "metadata": {},
   "outputs": [],
   "source": [
    "s1 = {}"
   ]
  },
  {
   "cell_type": "code",
   "execution_count": 189,
   "id": "54e25973-f46c-4780-a425-0d13d0aaca0c",
   "metadata": {},
   "outputs": [
    {
     "data": {
      "text/plain": [
       "dict"
      ]
     },
     "execution_count": 189,
     "metadata": {},
     "output_type": "execute_result"
    }
   ],
   "source": [
    "type(s1)"
   ]
  },
  {
   "cell_type": "code",
   "execution_count": 190,
   "id": "df3f84f4-98cb-4043-941e-79ef4a0be8d0",
   "metadata": {},
   "outputs": [],
   "source": [
    "s2 = {2,3,4,55,6}"
   ]
  },
  {
   "cell_type": "code",
   "execution_count": 191,
   "id": "11c01b69-194d-45da-bbd1-83966c6f4eda",
   "metadata": {},
   "outputs": [
    {
     "data": {
      "text/plain": [
       "set"
      ]
     },
     "execution_count": 191,
     "metadata": {},
     "output_type": "execute_result"
    }
   ],
   "source": [
    "type(s2)"
   ]
  },
  {
   "cell_type": "code",
   "execution_count": 195,
   "id": "7cd289ab-7382-458f-8366-33c01bd7025c",
   "metadata": {},
   "outputs": [],
   "source": [
    "s3 = {224,456,566,\"sudh\", 45+656j,(2,4,5)}"
   ]
  },
  {
   "cell_type": "code",
   "execution_count": 196,
   "id": "cfcb1cec-6d53-4d83-8957-423b93a8d37d",
   "metadata": {},
   "outputs": [
    {
     "data": {
      "text/plain": [
       "{(2, 4, 5), (45+656j), 224, 456, 566, 'sudh'}"
      ]
     },
     "execution_count": 196,
     "metadata": {},
     "output_type": "execute_result"
    }
   ],
   "source": [
    "s3"
   ]
  },
  {
   "cell_type": "code",
   "execution_count": 201,
   "id": "9970233e-9d07-4a0a-8f31-8efb6d8b0916",
   "metadata": {},
   "outputs": [],
   "source": [
    "s4 = {2,3,4,5,6,7,8,9,2,2,2,2,4,5,4,5,6,45,6,5,6,\"Sudh\",\"sudh\"}"
   ]
  },
  {
   "cell_type": "code",
   "execution_count": 202,
   "id": "7dcf0c6e-eebe-4e5f-af85-ab7413a59cfe",
   "metadata": {},
   "outputs": [
    {
     "data": {
      "text/plain": [
       "{2, 3, 4, 45, 5, 6, 7, 8, 9, 'Sudh', 'sudh'}"
      ]
     },
     "execution_count": 202,
     "metadata": {},
     "output_type": "execute_result"
    }
   ],
   "source": [
    "s4"
   ]
  },
  {
   "cell_type": "code",
   "execution_count": 203,
   "id": "b1f97aab-9920-47db-92bb-a0529833e0b8",
   "metadata": {},
   "outputs": [],
   "source": [
    "l6 = [2,3,4,5,6,7,8,9,2,2,2,2,4,5,4,5,6,45,6,5,6,\"Sudh\",\"sudh\"]"
   ]
  },
  {
   "cell_type": "code",
   "execution_count": 206,
   "id": "ec3d229f-374c-4996-943f-877bdd55c9cd",
   "metadata": {},
   "outputs": [],
   "source": [
    "l6  = list(set(l6))"
   ]
  },
  {
   "cell_type": "code",
   "execution_count": 207,
   "id": "a5f806ac-9fde-4d36-9404-9d6699aac460",
   "metadata": {},
   "outputs": [
    {
     "data": {
      "text/plain": [
       "[2, 3, 4, 5, 6, 7, 8, 9, 45, 'Sudh', 'sudh']"
      ]
     },
     "execution_count": 207,
     "metadata": {},
     "output_type": "execute_result"
    }
   ],
   "source": [
    "l6"
   ]
  },
  {
   "cell_type": "code",
   "execution_count": 210,
   "id": "28a1f58e-1272-4805-8344-cd6e2465268c",
   "metadata": {},
   "outputs": [],
   "source": [
    "s5 = {234,556,64,4,546,46,45,4,\"abg\",4545,45,55,555}"
   ]
  },
  {
   "cell_type": "code",
   "execution_count": 211,
   "id": "bef84531-c5ea-4338-9881-4daa9a0c069c",
   "metadata": {},
   "outputs": [
    {
     "data": {
      "text/plain": [
       "{234, 4, 45, 4545, 46, 546, 55, 555, 556, 64, 'abg'}"
      ]
     },
     "execution_count": 211,
     "metadata": {},
     "output_type": "execute_result"
    }
   ],
   "source": [
    "s5"
   ]
  },
  {
   "cell_type": "code",
   "execution_count": 212,
   "id": "a3da036f-e36e-4741-ac24-1a41361f0e8c",
   "metadata": {},
   "outputs": [
    {
     "ename": "TypeError",
     "evalue": "'set' object is not subscriptable",
     "output_type": "error",
     "traceback": [
      "\u001b[0;31m---------------------------------------------------------------------------\u001b[0m",
      "\u001b[0;31mTypeError\u001b[0m                                 Traceback (most recent call last)",
      "Cell \u001b[0;32mIn[212], line 1\u001b[0m\n\u001b[0;32m----> 1\u001b[0m \u001b[43ms5\u001b[49m\u001b[43m[\u001b[49m\u001b[38;5;241;43m0\u001b[39;49m\u001b[43m]\u001b[49m\n",
      "\u001b[0;31mTypeError\u001b[0m: 'set' object is not subscriptable"
     ]
    }
   ],
   "source": [
    "s5[0]"
   ]
  },
  {
   "cell_type": "code",
   "execution_count": 213,
   "id": "8b9702ea-1c1f-413a-b28c-3ef15e2d9929",
   "metadata": {},
   "outputs": [
    {
     "ename": "TypeError",
     "evalue": "'set' object is not subscriptable",
     "output_type": "error",
     "traceback": [
      "\u001b[0;31m---------------------------------------------------------------------------\u001b[0m",
      "\u001b[0;31mTypeError\u001b[0m                                 Traceback (most recent call last)",
      "Cell \u001b[0;32mIn[213], line 1\u001b[0m\n\u001b[0;32m----> 1\u001b[0m \u001b[43ms5\u001b[49m\u001b[43m[\u001b[49m\u001b[43m:\u001b[49m\u001b[43m:\u001b[49m\u001b[38;5;241;43m-\u001b[39;49m\u001b[38;5;241;43m1\u001b[39;49m\u001b[43m]\u001b[49m\n",
      "\u001b[0;31mTypeError\u001b[0m: 'set' object is not subscriptable"
     ]
    }
   ],
   "source": [
    "s5[::-1]"
   ]
  },
  {
   "cell_type": "code",
   "execution_count": 214,
   "id": "3f8b98d9-764a-44d3-939e-257caf380f7d",
   "metadata": {},
   "outputs": [],
   "source": [
    "s5.add(5542)"
   ]
  },
  {
   "cell_type": "code",
   "execution_count": 215,
   "id": "bfad68ce-9c95-47c0-b385-c7633c8228df",
   "metadata": {},
   "outputs": [
    {
     "data": {
      "text/plain": [
       "{234, 4, 45, 4545, 46, 546, 55, 5542, 555, 556, 64, 'abg'}"
      ]
     },
     "execution_count": 215,
     "metadata": {},
     "output_type": "execute_result"
    }
   ],
   "source": [
    "s5"
   ]
  },
  {
   "cell_type": "code",
   "execution_count": 216,
   "id": "7acfb5aa-502b-45e1-a717-e4820ab219cc",
   "metadata": {},
   "outputs": [],
   "source": [
    "s5.remove(45)"
   ]
  },
  {
   "cell_type": "code",
   "execution_count": 217,
   "id": "43aa42ee-c5a0-4daf-bebb-fd81f6b641ac",
   "metadata": {},
   "outputs": [
    {
     "data": {
      "text/plain": [
       "{234, 4, 4545, 46, 546, 55, 5542, 555, 556, 64, 'abg'}"
      ]
     },
     "execution_count": 217,
     "metadata": {},
     "output_type": "execute_result"
    }
   ],
   "source": [
    "s5"
   ]
  },
  {
   "cell_type": "code",
   "execution_count": null,
   "id": "43e5533c-8b31-4968-aa72-d2aacf92ec69",
   "metadata": {},
   "outputs": [],
   "source": []
  }
 ],
 "metadata": {
  "kernelspec": {
   "display_name": "Python 3 (ipykernel)",
   "language": "python",
   "name": "python3"
  },
  "language_info": {
   "codemirror_mode": {
    "name": "ipython",
    "version": 3
   },
   "file_extension": ".py",
   "mimetype": "text/x-python",
   "name": "python",
   "nbconvert_exporter": "python",
   "pygments_lexer": "ipython3",
   "version": "3.10.8"
  }
 },
 "nbformat": 4,
 "nbformat_minor": 5
}
