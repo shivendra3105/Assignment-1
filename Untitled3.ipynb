{
 "cells": [
  {
   "cell_type": "code",
   "execution_count": 1,
   "id": "a60d493c-b4e0-4223-8ee0-a59db89630bc",
   "metadata": {},
   "outputs": [],
   "source": [
    "a = 10"
   ]
  },
  {
   "cell_type": "code",
   "execution_count": 2,
   "id": "8233b258-8add-43d2-8d33-45033140ab63",
   "metadata": {},
   "outputs": [
    {
     "data": {
      "text/plain": [
       "10"
      ]
     },
     "execution_count": 2,
     "metadata": {},
     "output_type": "execute_result"
    }
   ],
   "source": [
    "a"
   ]
  },
  {
   "cell_type": "code",
   "execution_count": 3,
   "id": "311a9f1b-32f0-4940-b420-d2519b8813bf",
   "metadata": {},
   "outputs": [],
   "source": [
    "sudh = 20"
   ]
  },
  {
   "cell_type": "code",
   "execution_count": 4,
   "id": "9a64d945-507d-4fd2-960c-5ea320f512e2",
   "metadata": {},
   "outputs": [
    {
     "data": {
      "text/plain": [
       "int"
      ]
     },
     "execution_count": 4,
     "metadata": {},
     "output_type": "execute_result"
    }
   ],
   "source": [
    "type(a)"
   ]
  },
  {
   "cell_type": "code",
   "execution_count": 5,
   "id": "772f759f-69fa-4fb3-9f65-0a1402de26d5",
   "metadata": {},
   "outputs": [
    {
     "data": {
      "text/plain": [
       "30"
      ]
     },
     "execution_count": 5,
     "metadata": {},
     "output_type": "execute_result"
    }
   ],
   "source": [
    "a + sudh"
   ]
  },
  {
   "cell_type": "code",
   "execution_count": 6,
   "id": "927d37aa-10e3-4ff7-8edb-7b92a26036fe",
   "metadata": {},
   "outputs": [
    {
     "data": {
      "text/plain": [
       "int"
      ]
     },
     "execution_count": 6,
     "metadata": {},
     "output_type": "execute_result"
    }
   ],
   "source": [
    "type(sudh)"
   ]
  },
  {
   "cell_type": "code",
   "execution_count": 7,
   "id": "6741df95-0a95-4245-a366-6cf323a49bd4",
   "metadata": {},
   "outputs": [],
   "source": [
    "b = 2.09"
   ]
  },
  {
   "cell_type": "code",
   "execution_count": 9,
   "id": "68747579-bf20-4cd2-8e3a-695bb1f5e9b2",
   "metadata": {},
   "outputs": [
    {
     "data": {
      "text/plain": [
       "float"
      ]
     },
     "execution_count": 9,
     "metadata": {},
     "output_type": "execute_result"
    }
   ],
   "source": [
    "type(b)"
   ]
  },
  {
   "cell_type": "code",
   "execution_count": 10,
   "id": "2da5f3a4-5d30-481c-aab2-06892bc4a04d",
   "metadata": {},
   "outputs": [],
   "source": [
    "c = 45.2365"
   ]
  },
  {
   "cell_type": "code",
   "execution_count": 11,
   "id": "09bdf429-390d-4394-bbf4-3aad6cd1fb45",
   "metadata": {},
   "outputs": [
    {
     "data": {
      "text/plain": [
       "float"
      ]
     },
     "execution_count": 11,
     "metadata": {},
     "output_type": "execute_result"
    }
   ],
   "source": [
    "type(c)"
   ]
  },
  {
   "cell_type": "code",
   "execution_count": 13,
   "id": "06951dd9-4817-4acf-92da-042a5753bd31",
   "metadata": {},
   "outputs": [],
   "source": [
    "d = \"sudhanshu\""
   ]
  },
  {
   "cell_type": "code",
   "execution_count": 14,
   "id": "cc2ccf40-20fc-41de-8e2e-8984374892e7",
   "metadata": {},
   "outputs": [
    {
     "data": {
      "text/plain": [
       "str"
      ]
     },
     "execution_count": 14,
     "metadata": {},
     "output_type": "execute_result"
    }
   ],
   "source": [
    "type(d)"
   ]
  },
  {
   "cell_type": "code",
   "execution_count": 15,
   "id": "1a6297a6-e94f-4025-947c-73fcd184435c",
   "metadata": {},
   "outputs": [],
   "source": [
    "e = \"this is my first tech class\""
   ]
  },
  {
   "cell_type": "code",
   "execution_count": 32,
   "id": "1dc000a2-ba32-44fa-a1b2-ed191b567b79",
   "metadata": {},
   "outputs": [
    {
     "data": {
      "text/plain": [
       "str"
      ]
     },
     "execution_count": 32,
     "metadata": {},
     "output_type": "execute_result"
    }
   ],
   "source": [
    "type(e)"
   ]
  },
  {
   "cell_type": "code",
   "execution_count": 35,
   "id": "35684acd-26de-4982-9f35-165934db8e74",
   "metadata": {},
   "outputs": [],
   "source": [
    "n = True"
   ]
  },
  {
   "cell_type": "code",
   "execution_count": 36,
   "id": "9f0c30a3-e097-4f2c-aa96-5c7ad52c1239",
   "metadata": {},
   "outputs": [],
   "source": [
    "m = False"
   ]
  },
  {
   "cell_type": "code",
   "execution_count": 37,
   "id": "3bbd244f-dcf5-47a8-bd6a-a96258ae3f8f",
   "metadata": {},
   "outputs": [
    {
     "data": {
      "text/plain": [
       "1"
      ]
     },
     "execution_count": 37,
     "metadata": {},
     "output_type": "execute_result"
    }
   ],
   "source": [
    "n+m"
   ]
  },
  {
   "cell_type": "code",
   "execution_count": 38,
   "id": "57607257-6ad1-4ef5-82a1-29ff23a0f17b",
   "metadata": {},
   "outputs": [
    {
     "data": {
      "text/plain": [
       "0"
      ]
     },
     "execution_count": 38,
     "metadata": {},
     "output_type": "execute_result"
    }
   ],
   "source": [
    "n*m"
   ]
  },
  {
   "cell_type": "code",
   "execution_count": 39,
   "id": "9c0a8b9e-f2f3-4722-a34c-cb11e354ff65",
   "metadata": {},
   "outputs": [
    {
     "data": {
      "text/plain": [
       "1"
      ]
     },
     "execution_count": 39,
     "metadata": {},
     "output_type": "execute_result"
    }
   ],
   "source": [
    "n-m"
   ]
  },
  {
   "cell_type": "code",
   "execution_count": 40,
   "id": "afc9e5f7-c387-4aa0-97ea-9977f7e1e943",
   "metadata": {},
   "outputs": [
    {
     "data": {
      "text/plain": [
       "0.0"
      ]
     },
     "execution_count": 40,
     "metadata": {},
     "output_type": "execute_result"
    }
   ],
   "source": [
    "m/n"
   ]
  },
  {
   "cell_type": "code",
   "execution_count": 44,
   "id": "f4297cd4-2829-4e6e-88c2-bb44cf5b18b2",
   "metadata": {},
   "outputs": [],
   "source": [
    "v = 5 +8j"
   ]
  },
  {
   "cell_type": "code",
   "execution_count": 42,
   "id": "e763e289-0076-40d4-b872-619744e5e316",
   "metadata": {},
   "outputs": [
    {
     "data": {
      "text/plain": [
       "complex"
      ]
     },
     "execution_count": 42,
     "metadata": {},
     "output_type": "execute_result"
    }
   ],
   "source": [
    "type(v)"
   ]
  },
  {
   "cell_type": "code",
   "execution_count": 45,
   "id": "184a77b0-a5f6-47a9-a6b4-8921b6dd9fe9",
   "metadata": {},
   "outputs": [
    {
     "data": {
      "text/plain": [
       "5.0"
      ]
     },
     "execution_count": 45,
     "metadata": {},
     "output_type": "execute_result"
    }
   ],
   "source": [
    "v.real"
   ]
  },
  {
   "cell_type": "code",
   "execution_count": 46,
   "id": "fdccc321-fcce-4c67-bd1c-119add123cdb",
   "metadata": {},
   "outputs": [
    {
     "data": {
      "text/plain": [
       "8.0"
      ]
     },
     "execution_count": 46,
     "metadata": {},
     "output_type": "execute_result"
    }
   ],
   "source": [
    "v.imag"
   ]
  },
  {
   "cell_type": "code",
   "execution_count": 48,
   "id": "5b93c7cd-73d2-4a2d-8f86-7617ef352dce",
   "metadata": {},
   "outputs": [],
   "source": [
    "sudh = 5 + 7j"
   ]
  },
  {
   "cell_type": "code",
   "execution_count": 49,
   "id": "f0318c53-b04f-4f8f-898b-c3b2d32067fa",
   "metadata": {},
   "outputs": [
    {
     "data": {
      "text/plain": [
       "5.0"
      ]
     },
     "execution_count": 49,
     "metadata": {},
     "output_type": "execute_result"
    }
   ],
   "source": [
    "sudh.real"
   ]
  },
  {
   "cell_type": "code",
   "execution_count": 50,
   "id": "3d9cb05e-5304-47c0-8cb1-12ffed93ec7d",
   "metadata": {},
   "outputs": [
    {
     "data": {
      "text/plain": [
       "complex"
      ]
     },
     "execution_count": 50,
     "metadata": {},
     "output_type": "execute_result"
    }
   ],
   "source": [
    "type(sudh)"
   ]
  },
  {
   "cell_type": "code",
   "execution_count": 51,
   "id": "80931e77-4240-414e-9245-50433697e284",
   "metadata": {},
   "outputs": [
    {
     "data": {
      "text/plain": [
       "7.0"
      ]
     },
     "execution_count": 51,
     "metadata": {},
     "output_type": "execute_result"
    }
   ],
   "source": [
    "sudh.imag"
   ]
  },
  {
   "cell_type": "code",
   "execution_count": 52,
   "id": "2a6be03d-6419-4027-9bb8-123885e03460",
   "metadata": {},
   "outputs": [
    {
     "data": {
      "text/plain": [
       "(5+7j)"
      ]
     },
     "execution_count": 52,
     "metadata": {},
     "output_type": "execute_result"
    }
   ],
   "source": [
    "sudh"
   ]
  },
  {
   "cell_type": "code",
   "execution_count": 53,
   "id": "e97158c5-7251-4a3b-b7ac-da7659ce5f3a",
   "metadata": {},
   "outputs": [
    {
     "name": "stdout",
     "output_type": "stream",
     "text": [
      "my name is sudhanshu\n"
     ]
    }
   ],
   "source": [
    "print(\"my name is sudhanshu\")"
   ]
  },
  {
   "cell_type": "code",
   "execution_count": 54,
   "id": "bdfa306e-d0fd-43f6-a56a-93bed166c274",
   "metadata": {},
   "outputs": [
    {
     "name": "stdout",
     "output_type": "stream",
     "text": [
      "10\n"
     ]
    }
   ],
   "source": [
    "print(a)"
   ]
  },
  {
   "cell_type": "code",
   "execution_count": 55,
   "id": "4f4b4769-237b-4241-9070-2618629e7265",
   "metadata": {},
   "outputs": [
    {
     "name": "stdout",
     "output_type": "stream",
     "text": [
      "(5+7j)\n"
     ]
    }
   ],
   "source": [
    "print(sudh)"
   ]
  },
  {
   "cell_type": "code",
   "execution_count": 56,
   "id": "cea1444a-f77a-4e90-9d53-253a71d291dd",
   "metadata": {},
   "outputs": [
    {
     "name": "stdout",
     "output_type": "stream",
     "text": [
      "True\n"
     ]
    }
   ],
   "source": [
    "print(n)"
   ]
  },
  {
   "cell_type": "code",
   "execution_count": 57,
   "id": "8e282543-9090-4c85-b6d6-4f177298aebd",
   "metadata": {},
   "outputs": [
    {
     "name": "stdout",
     "output_type": "stream",
     "text": [
      "False\n"
     ]
    }
   ],
   "source": [
    "print(m)"
   ]
  },
  {
   "cell_type": "code",
   "execution_count": 58,
   "id": "a73f0cda-9094-47bd-83c3-e099f917033a",
   "metadata": {},
   "outputs": [],
   "source": [
    "s =\"pwskills\""
   ]
  },
  {
   "cell_type": "code",
   "execution_count": 59,
   "id": "36d69c76-724d-4d4d-9530-7dd09c64646c",
   "metadata": {},
   "outputs": [
    {
     "data": {
      "text/plain": [
       "str"
      ]
     },
     "execution_count": 59,
     "metadata": {},
     "output_type": "execute_result"
    }
   ],
   "source": [
    "type(s)"
   ]
  },
  {
   "cell_type": "code",
   "execution_count": 62,
   "id": "e7f4d49e-2b9e-4cc8-898d-ff67ae906f6d",
   "metadata": {},
   "outputs": [
    {
     "data": {
      "text/plain": [
       "'p'"
      ]
     },
     "execution_count": 62,
     "metadata": {},
     "output_type": "execute_result"
    }
   ],
   "source": [
    "s[0]"
   ]
  },
  {
   "cell_type": "code",
   "execution_count": 63,
   "id": "0db1a8e7-7499-499a-9478-6baec30c7a19",
   "metadata": {},
   "outputs": [
    {
     "data": {
      "text/plain": [
       "'s'"
      ]
     },
     "execution_count": 63,
     "metadata": {},
     "output_type": "execute_result"
    }
   ],
   "source": [
    "s[2]"
   ]
  },
  {
   "cell_type": "code",
   "execution_count": 64,
   "id": "d0be20b8-8a54-4491-bf60-8ecf9952c542",
   "metadata": {},
   "outputs": [
    {
     "data": {
      "text/plain": [
       "'k'"
      ]
     },
     "execution_count": 64,
     "metadata": {},
     "output_type": "execute_result"
    }
   ],
   "source": [
    "s[3]"
   ]
  },
  {
   "cell_type": "code",
   "execution_count": 65,
   "id": "ea94778e-d72d-40ef-beb1-b004f414e84f",
   "metadata": {},
   "outputs": [
    {
     "data": {
      "text/plain": [
       "'s'"
      ]
     },
     "execution_count": 65,
     "metadata": {},
     "output_type": "execute_result"
    }
   ],
   "source": [
    "s[7]"
   ]
  },
  {
   "cell_type": "code",
   "execution_count": 66,
   "id": "69a98eac-683a-438f-9c5a-c82d50e005c4",
   "metadata": {},
   "outputs": [
    {
     "data": {
      "text/plain": [
       "'s'"
      ]
     },
     "execution_count": 66,
     "metadata": {},
     "output_type": "execute_result"
    }
   ],
   "source": [
    "s[-1]"
   ]
  },
  {
   "cell_type": "code",
   "execution_count": 67,
   "id": "28eea17d-b9bb-4da1-84a2-c5228b841a27",
   "metadata": {},
   "outputs": [
    {
     "data": {
      "text/plain": [
       "'p'"
      ]
     },
     "execution_count": 67,
     "metadata": {},
     "output_type": "execute_result"
    }
   ],
   "source": [
    "s[-8]"
   ]
  },
  {
   "cell_type": "code",
   "execution_count": 70,
   "id": "04cef8d5-a762-4d07-b666-c48bb4ad08b1",
   "metadata": {},
   "outputs": [
    {
     "data": {
      "text/plain": [
       "'pws'"
      ]
     },
     "execution_count": 70,
     "metadata": {},
     "output_type": "execute_result"
    }
   ],
   "source": [
    "s[0:3]"
   ]
  },
  {
   "cell_type": "code",
   "execution_count": 72,
   "id": "252c6d53-5855-42d0-afbf-66e3af38c4d2",
   "metadata": {},
   "outputs": [
    {
     "data": {
      "text/plain": [
       "'kill'"
      ]
     },
     "execution_count": 72,
     "metadata": {},
     "output_type": "execute_result"
    }
   ],
   "source": [
    "s[3:7]"
   ]
  },
  {
   "cell_type": "code",
   "execution_count": 74,
   "id": "2419f357-3461-48f3-ac9c-4caf8d5971d1",
   "metadata": {},
   "outputs": [
    {
     "data": {
      "text/plain": [
       "'kill'"
      ]
     },
     "execution_count": 74,
     "metadata": {},
     "output_type": "execute_result"
    }
   ],
   "source": [
    "s[-5:-1]"
   ]
  },
  {
   "cell_type": "code",
   "execution_count": 75,
   "id": "d825aa67-4929-4d6a-b3db-939b32774736",
   "metadata": {},
   "outputs": [
    {
     "data": {
      "text/plain": [
       "'pw'"
      ]
     },
     "execution_count": 75,
     "metadata": {},
     "output_type": "execute_result"
    }
   ],
   "source": [
    "s[0:2]"
   ]
  },
  {
   "cell_type": "code",
   "execution_count": 76,
   "id": "c0ba3f6d-9a11-4668-8dd2-ae954c3e32ff",
   "metadata": {},
   "outputs": [
    {
     "data": {
      "text/plain": [
       "'pwsk'"
      ]
     },
     "execution_count": 76,
     "metadata": {},
     "output_type": "execute_result"
    }
   ],
   "source": [
    "s[0:4]"
   ]
  },
  {
   "cell_type": "code",
   "execution_count": 78,
   "id": "1287e2ed-a9c1-4f1b-a192-53a992b0b1f2",
   "metadata": {},
   "outputs": [
    {
     "data": {
      "text/plain": [
       "'psil'"
      ]
     },
     "execution_count": 78,
     "metadata": {},
     "output_type": "execute_result"
    }
   ],
   "source": [
    "s[0:8:2]"
   ]
  },
  {
   "cell_type": "code",
   "execution_count": 79,
   "id": "7bf31f59-e964-48e5-9b83-91088677baf0",
   "metadata": {},
   "outputs": [
    {
     "data": {
      "text/plain": [
       "'pkl'"
      ]
     },
     "execution_count": 79,
     "metadata": {},
     "output_type": "execute_result"
    }
   ],
   "source": [
    "s[0:8:3]"
   ]
  },
  {
   "cell_type": "code",
   "execution_count": 80,
   "id": "10a2d1db-04f0-4b0f-aaf4-1a37f2fe0a81",
   "metadata": {},
   "outputs": [
    {
     "data": {
      "text/plain": [
       "'psil'"
      ]
     },
     "execution_count": 80,
     "metadata": {},
     "output_type": "execute_result"
    }
   ],
   "source": [
    "s[::2]"
   ]
  },
  {
   "cell_type": "code",
   "execution_count": 81,
   "id": "0555c86c-80fd-49a9-9758-2a307940118f",
   "metadata": {},
   "outputs": [
    {
     "data": {
      "text/plain": [
       "'skills'"
      ]
     },
     "execution_count": 81,
     "metadata": {},
     "output_type": "execute_result"
    }
   ],
   "source": [
    "s[2::1]"
   ]
  },
  {
   "cell_type": "code",
   "execution_count": 83,
   "id": "e4b9a89e-a864-4867-8c60-02ad0dd63beb",
   "metadata": {},
   "outputs": [
    {
     "data": {
      "text/plain": [
       "'sllikswp'"
      ]
     },
     "execution_count": 83,
     "metadata": {},
     "output_type": "execute_result"
    }
   ],
   "source": [
    "s[::-1]"
   ]
  },
  {
   "cell_type": "code",
   "execution_count": 84,
   "id": "6755f12e-5c0a-46c4-a8c6-2d5698b78678",
   "metadata": {},
   "outputs": [
    {
     "data": {
      "text/plain": [
       "''"
      ]
     },
     "execution_count": 84,
     "metadata": {},
     "output_type": "execute_result"
    }
   ],
   "source": [
    "s[2:7:-1]"
   ]
  },
  {
   "cell_type": "code",
   "execution_count": 85,
   "id": "dc5aa910-63d5-466c-8fa8-fea198b52521",
   "metadata": {},
   "outputs": [
    {
     "data": {
      "text/plain": [
       "'sllik'"
      ]
     },
     "execution_count": 85,
     "metadata": {},
     "output_type": "execute_result"
    }
   ],
   "source": [
    "s[7:2:-1]"
   ]
  },
  {
   "cell_type": "code",
   "execution_count": 86,
   "id": "aac8e091-42a2-49c1-b5a3-b76163388cc8",
   "metadata": {},
   "outputs": [
    {
     "data": {
      "text/plain": [
       "''"
      ]
     },
     "execution_count": 86,
     "metadata": {},
     "output_type": "execute_result"
    }
   ],
   "source": [
    "s[8:0:1]"
   ]
  },
  {
   "cell_type": "code",
   "execution_count": 87,
   "id": "885ce66e-97d7-4240-a58c-5e0b65017b5b",
   "metadata": {},
   "outputs": [
    {
     "data": {
      "text/plain": [
       "'slliksw'"
      ]
     },
     "execution_count": 87,
     "metadata": {},
     "output_type": "execute_result"
    }
   ],
   "source": [
    "s[8:0:-1]"
   ]
  },
  {
   "cell_type": "code",
   "execution_count": 89,
   "id": "80b2d79a-27c0-4403-a773-dbdd646f4779",
   "metadata": {},
   "outputs": [
    {
     "data": {
      "text/plain": [
       "'slliks'"
      ]
     },
     "execution_count": 89,
     "metadata": {},
     "output_type": "execute_result"
    }
   ],
   "source": [
    "s[8:1:-1]"
   ]
  },
  {
   "cell_type": "code",
   "execution_count": 91,
   "id": "d1e5befd-c7b9-4c3d-96b7-40474c129747",
   "metadata": {},
   "outputs": [
    {
     "data": {
      "text/plain": [
       "'lliksw'"
      ]
     },
     "execution_count": 91,
     "metadata": {},
     "output_type": "execute_result"
    }
   ],
   "source": [
    "s[-2:-8:-1]"
   ]
  },
  {
   "cell_type": "code",
   "execution_count": 92,
   "id": "55b48590-f005-48a8-82fd-b4faafc5e25b",
   "metadata": {},
   "outputs": [
    {
     "data": {
      "text/plain": [
       "'sllikswp'"
      ]
     },
     "execution_count": 92,
     "metadata": {},
     "output_type": "execute_result"
    }
   ],
   "source": [
    "s[::-1]"
   ]
  },
  {
   "cell_type": "code",
   "execution_count": 93,
   "id": "e26f894e-b4eb-4e48-8459-21997c0fbd28",
   "metadata": {},
   "outputs": [
    {
     "data": {
      "text/plain": [
       "'pwskills'"
      ]
     },
     "execution_count": 93,
     "metadata": {},
     "output_type": "execute_result"
    }
   ],
   "source": [
    "s[::1]"
   ]
  },
  {
   "cell_type": "code",
   "execution_count": 94,
   "id": "1413fbc8-fdd7-4c35-b28c-45bbc4e38ad2",
   "metadata": {},
   "outputs": [
    {
     "data": {
      "text/plain": [
       "'slliksw'"
      ]
     },
     "execution_count": 94,
     "metadata": {},
     "output_type": "execute_result"
    }
   ],
   "source": [
    "s[:-8:-1]"
   ]
  },
  {
   "cell_type": "code",
   "execution_count": 95,
   "id": "57c3fdd0-60d7-4fe5-9e34-1a53f7b347aa",
   "metadata": {},
   "outputs": [
    {
     "data": {
      "text/plain": [
       "''"
      ]
     },
     "execution_count": 95,
     "metadata": {},
     "output_type": "execute_result"
    }
   ],
   "source": [
    "s[:-90:]"
   ]
  },
  {
   "cell_type": "code",
   "execution_count": 97,
   "id": "03af82d7-8d13-4538-82dc-c32cbcf692ab",
   "metadata": {},
   "outputs": [
    {
     "data": {
      "text/plain": [
       "'sllikswp'"
      ]
     },
     "execution_count": 97,
     "metadata": {},
     "output_type": "execute_result"
    }
   ],
   "source": [
    "s[:-90:-1]"
   ]
  },
  {
   "cell_type": "code",
   "execution_count": 98,
   "id": "fdb4433e-86ea-4120-9ec2-030802b7b668",
   "metadata": {},
   "outputs": [
    {
     "data": {
      "text/plain": [
       "'pwskills'"
      ]
     },
     "execution_count": 98,
     "metadata": {},
     "output_type": "execute_result"
    }
   ],
   "source": [
    "s[:90:1]"
   ]
  },
  {
   "cell_type": "code",
   "execution_count": 99,
   "id": "88809c9d-5553-4ba3-af4c-5ae9b21be645",
   "metadata": {},
   "outputs": [],
   "source": [
    "c = 200"
   ]
  },
  {
   "cell_type": "code",
   "execution_count": 102,
   "id": "ba447f14-89e6-4cb5-9b7f-e159e81f235e",
   "metadata": {},
   "outputs": [],
   "source": [
    "s1 = \"this is my string class\""
   ]
  },
  {
   "cell_type": "code",
   "execution_count": 105,
   "id": "c3d947ea-ea4c-427f-9780-914664af6ec1",
   "metadata": {},
   "outputs": [
    {
     "data": {
      "text/plain": [
       "'this is my string class'"
      ]
     },
     "execution_count": 105,
     "metadata": {},
     "output_type": "execute_result"
    }
   ],
   "source": [
    "s1"
   ]
  },
  {
   "cell_type": "code",
   "execution_count": 106,
   "id": "94a1d9a3-5f6f-4344-ae8a-8f5de955e97f",
   "metadata": {},
   "outputs": [
    {
     "data": {
      "text/plain": [
       "23"
      ]
     },
     "execution_count": 106,
     "metadata": {},
     "output_type": "execute_result"
    }
   ],
   "source": [
    "len(s1)"
   ]
  },
  {
   "cell_type": "code",
   "execution_count": 31,
   "id": "a48f6271-befe-4555-a288-c26358af723e",
   "metadata": {},
   "outputs": [
    {
     "data": {
      "text/plain": [
       "3"
      ]
     },
     "execution_count": 31,
     "metadata": {},
     "output_type": "execute_result"
    }
   ],
   "source": [
    "##this is a codw to find a charecterd of sub string in string\n",
    "s1.find('s')"
   ]
  },
  {
   "cell_type": "code",
   "execution_count": 11,
   "id": "a1e8a54d-4019-47e5-8d1b-5cc958319dca",
   "metadata": {},
   "outputs": [
    {
     "data": {
      "text/plain": [
       "2"
      ]
     },
     "execution_count": 11,
     "metadata": {},
     "output_type": "execute_result"
    }
   ],
   "source": [
    "s1.find('i')"
   ]
  },
  {
   "cell_type": "code",
   "execution_count": 12,
   "id": "f34d9dd0-2db8-4dac-bee6-3f495fc916c6",
   "metadata": {},
   "outputs": [
    {
     "data": {
      "text/plain": [
       "-1"
      ]
     },
     "execution_count": 12,
     "metadata": {},
     "output_type": "execute_result"
    }
   ],
   "source": [
    "s1.find('iS')"
   ]
  },
  {
   "cell_type": "code",
   "execution_count": 13,
   "id": "502488a3-1acb-4f94-bfc0-5914838f8427",
   "metadata": {},
   "outputs": [
    {
     "data": {
      "text/plain": [
       "'this is my string class'"
      ]
     },
     "execution_count": 13,
     "metadata": {},
     "output_type": "execute_result"
    }
   ],
   "source": [
    "s1"
   ]
  },
  {
   "cell_type": "code",
   "execution_count": 14,
   "id": "b47811c7-6d90-4d3a-ae67-2b2edae40f79",
   "metadata": {},
   "outputs": [
    {
     "data": {
      "text/plain": [
       "1"
      ]
     },
     "execution_count": 14,
     "metadata": {},
     "output_type": "execute_result"
    }
   ],
   "source": [
    "s1.count('st')"
   ]
  },
  {
   "cell_type": "code",
   "execution_count": 15,
   "id": "0b9e9151-25f0-4d77-ae06-d971b7f325d3",
   "metadata": {},
   "outputs": [
    {
     "data": {
      "text/plain": [
       "0"
      ]
     },
     "execution_count": 15,
     "metadata": {},
     "output_type": "execute_result"
    }
   ],
   "source": [
    "s1.count('z')"
   ]
  },
  {
   "cell_type": "code",
   "execution_count": 16,
   "id": "2197d5f4-0125-4f3d-865e-711f91be8e2a",
   "metadata": {},
   "outputs": [
    {
     "data": {
      "text/plain": [
       "'THIS IS MY STRING CLASS'"
      ]
     },
     "execution_count": 16,
     "metadata": {},
     "output_type": "execute_result"
    }
   ],
   "source": [
    "s1.upper()"
   ]
  },
  {
   "cell_type": "code",
   "execution_count": 17,
   "id": "ed5608cc-0400-40b3-8043-1a38905c63ba",
   "metadata": {},
   "outputs": [
    {
     "data": {
      "text/plain": [
       "'This Is My String Class'"
      ]
     },
     "execution_count": 17,
     "metadata": {},
     "output_type": "execute_result"
    }
   ],
   "source": [
    "s1.title()"
   ]
  },
  {
   "cell_type": "code",
   "execution_count": 18,
   "id": "bce648f6-190e-44e9-b29a-23352db89b7d",
   "metadata": {},
   "outputs": [
    {
     "data": {
      "text/plain": [
       "'This is my string class'"
      ]
     },
     "execution_count": 18,
     "metadata": {},
     "output_type": "execute_result"
    }
   ],
   "source": [
    "s1.capitalize()"
   ]
  },
  {
   "cell_type": "code",
   "execution_count": 22,
   "id": "b09e6d1d-9f68-4bfa-a19e-eae65446c58f",
   "metadata": {},
   "outputs": [],
   "source": [
    "s = \"pwskills\""
   ]
  },
  {
   "cell_type": "code",
   "execution_count": 27,
   "id": "91c5b904-9f2b-4bad-9791-19c27043d5d0",
   "metadata": {},
   "outputs": [
    {
     "data": {
      "text/plain": [
       "'pwskills sudh'"
      ]
     },
     "execution_count": 27,
     "metadata": {},
     "output_type": "execute_result"
    }
   ],
   "source": [
    "s + \" sudh\""
   ]
  },
  {
   "cell_type": "code",
   "execution_count": 28,
   "id": "044a8ce1-8d04-4741-a6f3-36f535eb99cd",
   "metadata": {},
   "outputs": [
    {
     "data": {
      "text/plain": [
       "'pwskills1'"
      ]
     },
     "execution_count": 28,
     "metadata": {},
     "output_type": "execute_result"
    }
   ],
   "source": [
    "s + '1'"
   ]
  },
  {
   "cell_type": "code",
   "execution_count": 29,
   "id": "68ed02af-3860-4476-b250-d0beb9b46bd9",
   "metadata": {},
   "outputs": [
    {
     "data": {
      "text/plain": [
       "'pwskillspwskillspwskills'"
      ]
     },
     "execution_count": 29,
     "metadata": {},
     "output_type": "execute_result"
    }
   ],
   "source": [
    "s * 3"
   ]
  },
  {
   "cell_type": "code",
   "execution_count": 30,
   "id": "aba48740-c49d-44a1-a1e4-4927702015e6",
   "metadata": {},
   "outputs": [
    {
     "data": {
      "text/plain": [
       "\"don't do copy and paste in my class\""
      ]
     },
     "execution_count": 30,
     "metadata": {},
     "output_type": "execute_result"
    }
   ],
   "source": [
    "\"don't do copy and paste in my class\""
   ]
  },
  {
   "cell_type": "code",
   "execution_count": 39,
   "id": "17bba6e1-1422-448f-8932-60a1787be097",
   "metadata": {},
   "outputs": [
    {
     "data": {
      "text/plain": [
       "'This is my first class for programing\\ni have leant veriable declaration ,data type ,string , int ,boolean , complex number\\ni have seen some example of string slicing and indexing\\ni have gne though some of the string inbuilt function\\napart from that i am trying to praclice in my system\\nbut some  of us in our calss are not executing code and still they are answering which is bad'"
      ]
     },
     "execution_count": 39,
     "metadata": {},
     "output_type": "execute_result"
    }
   ],
   "source": [
    "\"\"\"This is my first class for programing\n",
    "i have leant veriable declaration ,data type ,string , int ,boolean , complex number\n",
    "i have seen some example of string slicing and indexing\n",
    "i have gne though some of the string inbuilt function\n",
    "apart from that i am trying to praclice in my system\n",
    "but some  of us in our calss are not executing code and still they are answering which is bad\"\"\""
   ]
  },
  {
   "cell_type": "code",
   "execution_count": 42,
   "id": "b8aa2a39-f90d-4a9e-8260-968dbda2e257",
   "metadata": {},
   "outputs": [],
   "source": [
    "# This is my first class for programing\n",
    "# i have leant veriable declaration ,data type ,string , int ,boolean , complex number\n",
    "# i have seen some example of string slicing and indexing\n",
    "# i have gne though some of the string inbuilt function\n",
    "# apart from that i am trying to praclice in my system\n",
    "# but some  of us in our calss are not executing code and still they are answering which is bad"
   ]
  },
  {
   "cell_type": "code",
   "execution_count": 46,
   "id": "49dbbcf7-bc43-4083-ba0b-4687957c8417",
   "metadata": {},
   "outputs": [],
   "source": [
    "s3 = \"\"\"This is my first class for programing\n",
    "i have leant veriable declaration ,data type ,string , int ,boolean , complex number\n",
    "i have seen some example of string slicing and indexing\n",
    "i have gne though some of the string inbuilt function\n",
    "apart from that i am trying to praclice in my system\n",
    "but some  of us in our calss are not executing code and still they are answering which is bad\"\"\""
   ]
  },
  {
   "cell_type": "code",
   "execution_count": 47,
   "id": "7b838b2f-f09d-472b-a09a-f81f49d44141",
   "metadata": {},
   "outputs": [
    {
     "data": {
      "text/plain": [
       "'This is my first class for programing\\ni have leant veriable declaration ,data type ,string , int ,boolean , complex number\\ni have seen some example of string slicing and indexing\\ni have gne though some of the string inbuilt function\\napart from that i am trying to praclice in my system\\nbut some  of us in our calss are not executing code and still they are answering which is bad'"
      ]
     },
     "execution_count": 47,
     "metadata": {},
     "output_type": "execute_result"
    }
   ],
   "source": [
    "s3"
   ]
  },
  {
   "cell_type": "code",
   "execution_count": null,
   "id": "fa14a2a4-ea63-484a-aadc-fc3a9c2e2ee4",
   "metadata": {},
   "outputs": [],
   "source": []
  }
 ],
 "metadata": {
  "kernelspec": {
   "display_name": "Python 3 (ipykernel)",
   "language": "python",
   "name": "python3"
  },
  "language_info": {
   "codemirror_mode": {
    "name": "ipython",
    "version": 3
   },
   "file_extension": ".py",
   "mimetype": "text/x-python",
   "name": "python",
   "nbconvert_exporter": "python",
   "pygments_lexer": "ipython3",
   "version": "3.10.8"
  }
 },
 "nbformat": 4,
 "nbformat_minor": 5
}
