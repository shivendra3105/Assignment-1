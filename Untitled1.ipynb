{
 "cells": [
  {
   "cell_type": "code",
   "execution_count": 1,
   "id": "42e14131-70dd-4b94-8ea4-cad42eb3dfd3",
   "metadata": {},
   "outputs": [],
   "source": [
    "d = {}"
   ]
  },
  {
   "cell_type": "code",
   "execution_count": 2,
   "id": "ba045265-26a3-4ad6-99ea-3a8d670b8030",
   "metadata": {},
   "outputs": [
    {
     "data": {
      "text/plain": [
       "dict"
      ]
     },
     "execution_count": 2,
     "metadata": {},
     "output_type": "execute_result"
    }
   ],
   "source": [
    "type(d)"
   ]
  },
  {
   "cell_type": "code",
   "execution_count": 3,
   "id": "885bc8f6-8caa-496e-88ed-e498f85250fe",
   "metadata": {},
   "outputs": [],
   "source": [
    "d1 = {'key' : \"sudh\"}"
   ]
  },
  {
   "cell_type": "code",
   "execution_count": 4,
   "id": "75faafac-f5ce-41d6-a28d-b40845a22ead",
   "metadata": {},
   "outputs": [
    {
     "data": {
      "text/plain": [
       "{'key': 'sudh'}"
      ]
     },
     "execution_count": 4,
     "metadata": {},
     "output_type": "execute_result"
    }
   ],
   "source": [
    "d1"
   ]
  },
  {
   "cell_type": "code",
   "execution_count": 5,
   "id": "8dc830b2-44e1-42d6-b345-e851df224a64",
   "metadata": {},
   "outputs": [],
   "source": [
    "d2 = {'name' : \"sudhanshu\" , \"email\" : \"ss@gmail.com\" , \"number\" : 3456856}"
   ]
  },
  {
   "cell_type": "code",
   "execution_count": 6,
   "id": "5b021531-ae19-40fa-abc7-3249391086ac",
   "metadata": {},
   "outputs": [
    {
     "data": {
      "text/plain": [
       "{'name': 'sudhanshu', 'email': 'ss@gmail.com', 'number': 3456856}"
      ]
     },
     "execution_count": 6,
     "metadata": {},
     "output_type": "execute_result"
    }
   ],
   "source": [
    "d2"
   ]
  },
  {
   "cell_type": "code",
   "execution_count": 13,
   "id": "d7d744f7-6d9e-4ca9-bfe7-308fa39a19e8",
   "metadata": {},
   "outputs": [],
   "source": [
    "d3 = {234 : \"sudh\" , '-wer' : \"kumar\" , True : 235565}"
   ]
  },
  {
   "cell_type": "code",
   "execution_count": 14,
   "id": "efb5db83-4698-463b-b830-89c886eb717b",
   "metadata": {},
   "outputs": [
    {
     "data": {
      "text/plain": [
       "{234: 'sudh', '-wer': 'kumar', True: 235565}"
      ]
     },
     "execution_count": 14,
     "metadata": {},
     "output_type": "execute_result"
    }
   ],
   "source": [
    "d3"
   ]
  },
  {
   "cell_type": "code",
   "execution_count": 17,
   "id": "b2cdc043-c2b5-43d9-aaa2-a7a10a416b84",
   "metadata": {},
   "outputs": [
    {
     "data": {
      "text/plain": [
       "'sudh'"
      ]
     },
     "execution_count": 17,
     "metadata": {},
     "output_type": "execute_result"
    }
   ],
   "source": [
    "d3[234]"
   ]
  },
  {
   "cell_type": "code",
   "execution_count": 18,
   "id": "069af5bd-9122-44fd-b68e-8955b3a38c19",
   "metadata": {},
   "outputs": [
    {
     "data": {
      "text/plain": [
       "235565"
      ]
     },
     "execution_count": 18,
     "metadata": {},
     "output_type": "execute_result"
    }
   ],
   "source": [
    "d3[True]"
   ]
  },
  {
   "cell_type": "code",
   "execution_count": 21,
   "id": "48ca259e-206b-437d-8ead-acc576e043a9",
   "metadata": {},
   "outputs": [
    {
     "data": {
      "text/plain": [
       "235565"
      ]
     },
     "execution_count": 21,
     "metadata": {},
     "output_type": "execute_result"
    }
   ],
   "source": [
    "d3[1]"
   ]
  },
  {
   "cell_type": "code",
   "execution_count": 22,
   "id": "1765c26b-9f9a-49cb-b4d5-4f61d2b413f5",
   "metadata": {},
   "outputs": [
    {
     "data": {
      "text/plain": [
       "2"
      ]
     },
     "execution_count": 22,
     "metadata": {},
     "output_type": "execute_result"
    }
   ],
   "source": [
    "True + True"
   ]
  },
  {
   "cell_type": "code",
   "execution_count": 33,
   "id": "5bee32e9-d791-4e26-a655-5a71ce4c100f",
   "metadata": {},
   "outputs": [],
   "source": [
    "d4 = {'name' :\"sudh\", 'mail_id' :\"ss@gmail.com\",\"name\":\"sudhanshu\"}"
   ]
  },
  {
   "cell_type": "code",
   "execution_count": 34,
   "id": "1aec6a4b-ef89-4e84-b1ca-f5ed7ca6f7f9",
   "metadata": {},
   "outputs": [
    {
     "data": {
      "text/plain": [
       "'sudhanshu'"
      ]
     },
     "execution_count": 34,
     "metadata": {},
     "output_type": "execute_result"
    }
   ],
   "source": [
    "d4['name']"
   ]
  },
  {
   "cell_type": "code",
   "execution_count": 35,
   "id": "696cea52-4ec0-4b3b-9148-3ead125b22dc",
   "metadata": {},
   "outputs": [],
   "source": [
    "d5 = {\"company\" : \"pwskills\", \"course\" : [\"web dev\" , \"data science\" , \"java with dsa system design\"]}"
   ]
  },
  {
   "cell_type": "code",
   "execution_count": 36,
   "id": "959f9aaf-77fd-406b-a646-f16022d69fa7",
   "metadata": {},
   "outputs": [
    {
     "data": {
      "text/plain": [
       "{'company': 'pwskills',\n",
       " 'course': ['web dev', 'data science', 'java with dsa system design']}"
      ]
     },
     "execution_count": 36,
     "metadata": {},
     "output_type": "execute_result"
    }
   ],
   "source": [
    "d5"
   ]
  },
  {
   "cell_type": "code",
   "execution_count": 37,
   "id": "a75a17fb-b518-42a1-b034-e8c58f2cca46",
   "metadata": {},
   "outputs": [
    {
     "data": {
      "text/plain": [
       "['web dev', 'data science', 'java with dsa system design']"
      ]
     },
     "execution_count": 37,
     "metadata": {},
     "output_type": "execute_result"
    }
   ],
   "source": [
    "d5['course']"
   ]
  },
  {
   "cell_type": "code",
   "execution_count": 58,
   "id": "f3e2796b-6128-4e28-b199-69a8d4f654f7",
   "metadata": {},
   "outputs": [
    {
     "data": {
      "text/plain": [
       "'java with dsa system design'"
      ]
     },
     "execution_count": 58,
     "metadata": {},
     "output_type": "execute_result"
    }
   ],
   "source": [
    "d5['course'][2]"
   ]
  },
  {
   "cell_type": "code",
   "execution_count": 77,
   "id": "fc19367b-53bf-479f-91e3-5f00fb571ffc",
   "metadata": {},
   "outputs": [],
   "source": [
    "d6 = {\"number\" : [32,56,4,5,6,4,6,] ,\"assignment\" : (1,35,54,64,6,97,45) , \"launch_date\" : {56,45} , \"class_time\" : {\"web_dev\" :8, \"data\": 9,\"java\":7}}"
   ]
  },
  {
   "cell_type": "code",
   "execution_count": 78,
   "id": "13c98cde-a0de-4831-885c-6eb496b377b3",
   "metadata": {},
   "outputs": [
    {
     "data": {
      "text/plain": [
       "{'number': [32, 56, 4, 5, 6, 4, 6],\n",
       " 'assignment': (1, 35, 54, 64, 6, 97, 45),\n",
       " 'launch_date': {45, 56},\n",
       " 'class_time': {'web_dev': 8, 'data': 9, 'java': 7}}"
      ]
     },
     "execution_count": 78,
     "metadata": {},
     "output_type": "execute_result"
    }
   ],
   "source": [
    "d6"
   ]
  },
  {
   "cell_type": "code",
   "execution_count": 81,
   "id": "684c8661-2781-43c4-857d-1c3d12883052",
   "metadata": {},
   "outputs": [
    {
     "data": {
      "text/plain": [
       "7"
      ]
     },
     "execution_count": 81,
     "metadata": {},
     "output_type": "execute_result"
    }
   ],
   "source": [
    "d6[\"class_time\"][\"java\"]"
   ]
  },
  {
   "cell_type": "markdown",
   "id": "4390e885-5d73-4195-a3ac-4feb86deda97",
   "metadata": {},
   "source": [
    "d6[\"mentor\"] = [\"sudhanshu\" ,\"krish\", \"anurag\", \"hayder\"]"
   ]
  },
  {
   "cell_type": "code",
   "execution_count": 82,
   "id": "1e7dd719-e46e-453c-9ab5-ecdc227aa875",
   "metadata": {},
   "outputs": [
    {
     "data": {
      "text/plain": [
       "{'number': [32, 56, 4, 5, 6, 4, 6],\n",
       " 'assignment': (1, 35, 54, 64, 6, 97, 45),\n",
       " 'launch_date': {45, 56},\n",
       " 'class_time': {'web_dev': 8, 'data': 9, 'java': 7}}"
      ]
     },
     "execution_count": 82,
     "metadata": {},
     "output_type": "execute_result"
    }
   ],
   "source": [
    "d6"
   ]
  },
  {
   "cell_type": "code",
   "execution_count": 83,
   "id": "61f08cf9-dc6a-487d-9922-68fbda5c2926",
   "metadata": {},
   "outputs": [],
   "source": [
    "d6[\"mentor\"] = [\"sudhanshu\" ,\"krish\", \"anurag\", \"hayder\"]"
   ]
  },
  {
   "cell_type": "code",
   "execution_count": 84,
   "id": "af7dae8a-2249-45bf-b269-106cee16f4c2",
   "metadata": {},
   "outputs": [
    {
     "data": {
      "text/plain": [
       "{'number': [32, 56, 4, 5, 6, 4, 6],\n",
       " 'assignment': (1, 35, 54, 64, 6, 97, 45),\n",
       " 'launch_date': {45, 56},\n",
       " 'class_time': {'web_dev': 8, 'data': 9, 'java': 7},\n",
       " 'mentor': ['sudhanshu', 'krish', 'anurag', 'hayder']}"
      ]
     },
     "execution_count": 84,
     "metadata": {},
     "output_type": "execute_result"
    }
   ],
   "source": [
    "d6"
   ]
  },
  {
   "cell_type": "code",
   "execution_count": 86,
   "id": "bdae81e8-d0d0-4a5f-8212-ad75a944d0d3",
   "metadata": {},
   "outputs": [],
   "source": [
    "del d6[\"number\"]"
   ]
  },
  {
   "cell_type": "code",
   "execution_count": 87,
   "id": "5f3941e7-8b33-403c-a534-575ddc447f50",
   "metadata": {},
   "outputs": [
    {
     "data": {
      "text/plain": [
       "{'assignment': (1, 35, 54, 64, 6, 97, 45),\n",
       " 'launch_date': {45, 56},\n",
       " 'class_time': {'web_dev': 8, 'data': 9, 'java': 7},\n",
       " 'mentor': ['sudhanshu', 'krish', 'anurag', 'hayder']}"
      ]
     },
     "execution_count": 87,
     "metadata": {},
     "output_type": "execute_result"
    }
   ],
   "source": [
    "d6"
   ]
  },
  {
   "cell_type": "code",
   "execution_count": 88,
   "id": "e7070be7-ef9d-408b-9c15-86483f0d57aa",
   "metadata": {},
   "outputs": [
    {
     "data": {
      "text/plain": [
       "dict_keys(['assignment', 'launch_date', 'class_time', 'mentor'])"
      ]
     },
     "execution_count": 88,
     "metadata": {},
     "output_type": "execute_result"
    }
   ],
   "source": [
    "d6.keys()"
   ]
  },
  {
   "cell_type": "code",
   "execution_count": 89,
   "id": "da0bd189-9d5c-436f-972a-86d1eb9413c9",
   "metadata": {},
   "outputs": [
    {
     "data": {
      "text/plain": [
       "['assignment', 'launch_date', 'class_time', 'mentor']"
      ]
     },
     "execution_count": 89,
     "metadata": {},
     "output_type": "execute_result"
    }
   ],
   "source": [
    "list(d6.keys())"
   ]
  },
  {
   "cell_type": "code",
   "execution_count": 90,
   "id": "b7856ac4-4430-4168-b06e-0783731ac764",
   "metadata": {},
   "outputs": [
    {
     "data": {
      "text/plain": [
       "[(1, 35, 54, 64, 6, 97, 45),\n",
       " {45, 56},\n",
       " {'web_dev': 8, 'data': 9, 'java': 7},\n",
       " ['sudhanshu', 'krish', 'anurag', 'hayder']]"
      ]
     },
     "execution_count": 90,
     "metadata": {},
     "output_type": "execute_result"
    }
   ],
   "source": [
    "list (d6.values())"
   ]
  },
  {
   "cell_type": "code",
   "execution_count": 92,
   "id": "6d982894-50bc-4bb0-bbab-51d7062bf76e",
   "metadata": {},
   "outputs": [
    {
     "data": {
      "text/plain": [
       "[('assignment', (1, 35, 54, 64, 6, 97, 45)),\n",
       " ('launch_date', {45, 56}),\n",
       " ('class_time', {'web_dev': 8, 'data': 9, 'java': 7}),\n",
       " ('mentor', ['sudhanshu', 'krish', 'anurag', 'hayder'])]"
      ]
     },
     "execution_count": 92,
     "metadata": {},
     "output_type": "execute_result"
    }
   ],
   "source": [
    "list(d6.items())"
   ]
  },
  {
   "cell_type": "code",
   "execution_count": null,
   "id": "963d03b4-cf66-41d8-ab80-453adea39f0b",
   "metadata": {},
   "outputs": [],
   "source": [
    "d6[\"zoo\"] = [\"lion\" ,\"rat\"]"
   ]
  },
  {
   "cell_type": "code",
   "execution_count": null,
   "id": "e32837e0-f16e-4d02-908d-7b8b9c6c2c39",
   "metadata": {},
   "outputs": [],
   "source": [
    "d6[\"zoo\"] = [\"lion\" ,\"rat\"]"
   ]
  },
  {
   "cell_type": "code",
   "execution_count": null,
   "id": "34a49069-0dcc-43a8-8e85-be2900f57713",
   "metadata": {},
   "outputs": [],
   "source": [
    "d6"
   ]
  },
  {
   "cell_type": "code",
   "execution_count": null,
   "id": "d3d7affc-8d96-43f5-b03c-4894b6c56700",
   "metadata": {},
   "outputs": [],
   "source": []
  }
 ],
 "metadata": {
  "kernelspec": {
   "display_name": "Python 3 (ipykernel)",
   "language": "python",
   "name": "python3"
  },
  "language_info": {
   "codemirror_mode": {
    "name": "ipython",
    "version": 3
   },
   "file_extension": ".py",
   "mimetype": "text/x-python",
   "name": "python",
   "nbconvert_exporter": "python",
   "pygments_lexer": "ipython3",
   "version": "3.10.8"
  }
 },
 "nbformat": 4,
 "nbformat_minor": 5
}
