{
 "cells": [
  {
   "cell_type": "code",
   "execution_count": 1,
   "id": "5171fdc6-f801-4069-9a76-aa826e909189",
   "metadata": {},
   "outputs": [
    {
     "name": "stdout",
     "output_type": "stream",
     "text": [
      "my first class is data science master\n"
     ]
    }
   ],
   "source": [
    "print (\"my first class is data science master\")"
   ]
  },
  {
   "cell_type": "code",
   "execution_count": 2,
   "id": "106f829a-55c4-422a-bfc5-d444053b3c6b",
   "metadata": {},
   "outputs": [
    {
     "data": {
      "text/plain": [
       "684"
      ]
     },
     "execution_count": 2,
     "metadata": {},
     "output_type": "execute_result"
    }
   ],
   "source": [
    "242+442"
   ]
  },
  {
   "cell_type": "code",
   "execution_count": 3,
   "id": "dccadd03-30ed-4050-8c99-f6c33ccbf741",
   "metadata": {},
   "outputs": [
    {
     "data": {
      "text/plain": [
       "79"
      ]
     },
     "execution_count": 3,
     "metadata": {},
     "output_type": "execute_result"
    }
   ],
   "source": [
    "24+55"
   ]
  },
  {
   "cell_type": "code",
   "execution_count": 4,
   "id": "1afedb81-6e06-40b8-b3a7-9558f97ace40",
   "metadata": {},
   "outputs": [],
   "source": [
    "a = 10\n",
    "b = 20"
   ]
  },
  {
   "cell_type": "code",
   "execution_count": 5,
   "id": "7f3499c1-d6f5-4e85-8418-962479b0e736",
   "metadata": {},
   "outputs": [
    {
     "data": {
      "text/plain": [
       "30"
      ]
     },
     "execution_count": 5,
     "metadata": {},
     "output_type": "execute_result"
    }
   ],
   "source": [
    "a+b"
   ]
  },
  {
   "cell_type": "code",
   "execution_count": 6,
   "id": "0e2b9ec5-0a22-4e5c-b361-476ac749d403",
   "metadata": {},
   "outputs": [],
   "source": [
    "manav = 50"
   ]
  },
  {
   "cell_type": "code",
   "execution_count": 7,
   "id": "215c94b8-413c-45e5-8d89-e989a6052138",
   "metadata": {},
   "outputs": [
    {
     "data": {
      "text/plain": [
       "60"
      ]
     },
     "execution_count": 7,
     "metadata": {},
     "output_type": "execute_result"
    }
   ],
   "source": [
    "manav+a"
   ]
  },
  {
   "cell_type": "code",
   "execution_count": 8,
   "id": "ef8e957b-6cb4-48c5-b8e7-2551d1178b49",
   "metadata": {},
   "outputs": [
    {
     "data": {
      "text/plain": [
       "int"
      ]
     },
     "execution_count": 8,
     "metadata": {},
     "output_type": "execute_result"
    }
   ],
   "source": [
    "type(a)"
   ]
  },
  {
   "cell_type": "code",
   "execution_count": 9,
   "id": "367ee559-6ae8-4fb7-a969-b6ef00ca625a",
   "metadata": {},
   "outputs": [
    {
     "data": {
      "text/plain": [
       "int"
      ]
     },
     "execution_count": 9,
     "metadata": {},
     "output_type": "execute_result"
    }
   ],
   "source": [
    "type(manav)"
   ]
  },
  {
   "cell_type": "code",
   "execution_count": 10,
   "id": "b9fa33b9-3a92-4bd0-bed7-c2bc7b89bcc6",
   "metadata": {},
   "outputs": [],
   "source": [
    "c = 2.09"
   ]
  },
  {
   "cell_type": "code",
   "execution_count": 11,
   "id": "4aebca1f-8a95-482d-8fb7-598b346a8fd2",
   "metadata": {},
   "outputs": [
    {
     "data": {
      "text/plain": [
       "float"
      ]
     },
     "execution_count": 11,
     "metadata": {},
     "output_type": "execute_result"
    }
   ],
   "source": [
    "type(c)"
   ]
  },
  {
   "cell_type": "code",
   "execution_count": 12,
   "id": "dc3c8c8f-d901-4635-b1bb-8fb7a3a59833",
   "metadata": {},
   "outputs": [],
   "source": [
    "d = 45.456"
   ]
  },
  {
   "cell_type": "code",
   "execution_count": 13,
   "id": "30b651ab-3d56-4fb9-bf01-201729b4b4f0",
   "metadata": {},
   "outputs": [
    {
     "ename": "NameError",
     "evalue": "name 'shivendra' is not defined",
     "output_type": "error",
     "traceback": [
      "\u001b[0;31m---------------------------------------------------------------------------\u001b[0m",
      "\u001b[0;31mNameError\u001b[0m                                 Traceback (most recent call last)",
      "Cell \u001b[0;32mIn[13], line 1\u001b[0m\n\u001b[0;32m----> 1\u001b[0m e \u001b[38;5;241m=\u001b[39m \u001b[43mshivendra\u001b[49m\n",
      "\u001b[0;31mNameError\u001b[0m: name 'shivendra' is not defined"
     ]
    }
   ],
   "source": [
    "e = shivendra"
   ]
  },
  {
   "cell_type": "code",
   "execution_count": 14,
   "id": "e1388fd7-af64-4dca-a14a-8d4a459c5ac7",
   "metadata": {},
   "outputs": [],
   "source": [
    "e = \"shivendra\""
   ]
  },
  {
   "cell_type": "code",
   "execution_count": 15,
   "id": "50b0cb38-cf2d-4682-8bea-bfdacadfc743",
   "metadata": {},
   "outputs": [
    {
     "data": {
      "text/plain": [
       "str"
      ]
     },
     "execution_count": 15,
     "metadata": {},
     "output_type": "execute_result"
    }
   ],
   "source": [
    "type(e)"
   ]
  },
  {
   "cell_type": "code",
   "execution_count": 16,
   "id": "3a521195-0c09-4adb-8e1d-729c4dd06d1e",
   "metadata": {},
   "outputs": [],
   "source": [
    "f = 'this is my first tech class'"
   ]
  },
  {
   "cell_type": "code",
   "execution_count": 17,
   "id": "4b311819-4308-4c4a-8e08-170aad5fa9d9",
   "metadata": {},
   "outputs": [
    {
     "data": {
      "text/plain": [
       "str"
      ]
     },
     "execution_count": 17,
     "metadata": {},
     "output_type": "execute_result"
    }
   ],
   "source": [
    "type(f)"
   ]
  },
  {
   "cell_type": "code",
   "execution_count": 18,
   "id": "dccaa432-fab3-4175-a55a-8e562c58dd29",
   "metadata": {},
   "outputs": [],
   "source": [
    "n = True"
   ]
  },
  {
   "cell_type": "code",
   "execution_count": 19,
   "id": "c2b0ec6e-8bd3-468e-bc95-bb6b9ba82a64",
   "metadata": {},
   "outputs": [
    {
     "data": {
      "text/plain": [
       "bool"
      ]
     },
     "execution_count": 19,
     "metadata": {},
     "output_type": "execute_result"
    }
   ],
   "source": [
    "type(n)"
   ]
  },
  {
   "cell_type": "code",
   "execution_count": 21,
   "id": "87b02471-fdc4-4a95-9491-3b4966b55cd9",
   "metadata": {},
   "outputs": [],
   "source": [
    "m = False"
   ]
  },
  {
   "cell_type": "code",
   "execution_count": 22,
   "id": "f6229204-7738-4178-ac97-66256efeeb31",
   "metadata": {},
   "outputs": [
    {
     "data": {
      "text/plain": [
       "1"
      ]
     },
     "execution_count": 22,
     "metadata": {},
     "output_type": "execute_result"
    }
   ],
   "source": [
    "n+m"
   ]
  },
  {
   "cell_type": "code",
   "execution_count": 23,
   "id": "ab73c07c-2130-4aa9-ad6c-f6430f2de20e",
   "metadata": {},
   "outputs": [
    {
     "data": {
      "text/plain": [
       "bool"
      ]
     },
     "execution_count": 23,
     "metadata": {},
     "output_type": "execute_result"
    }
   ],
   "source": [
    "type (m)"
   ]
  },
  {
   "cell_type": "code",
   "execution_count": 24,
   "id": "b4e2df2b-d316-4b2e-9123-fa913811fc6c",
   "metadata": {},
   "outputs": [
    {
     "data": {
      "text/plain": [
       "1"
      ]
     },
     "execution_count": 24,
     "metadata": {},
     "output_type": "execute_result"
    }
   ],
   "source": [
    "True *True"
   ]
  },
  {
   "cell_type": "code",
   "execution_count": 25,
   "id": "9859076a-c2e7-4933-8f31-d6ef638667b7",
   "metadata": {},
   "outputs": [
    {
     "ename": "NameError",
     "evalue": "name 'false' is not defined",
     "output_type": "error",
     "traceback": [
      "\u001b[0;31m---------------------------------------------------------------------------\u001b[0m",
      "\u001b[0;31mNameError\u001b[0m                                 Traceback (most recent call last)",
      "Cell \u001b[0;32mIn[25], line 1\u001b[0m\n\u001b[0;32m----> 1\u001b[0m \u001b[38;5;28;01mTrue\u001b[39;00m \u001b[38;5;241m/\u001b[39m \u001b[43mfalse\u001b[49m\n",
      "\u001b[0;31mNameError\u001b[0m: name 'false' is not defined"
     ]
    }
   ],
   "source": [
    "True / false"
   ]
  },
  {
   "cell_type": "code",
   "execution_count": 26,
   "id": "c25c3727-f382-4336-b8e0-0c1d4d5e0399",
   "metadata": {},
   "outputs": [],
   "source": [
    "v = 5+8j"
   ]
  },
  {
   "cell_type": "code",
   "execution_count": 27,
   "id": "5b57b453-b9c1-47f6-97f6-4e545430adb7",
   "metadata": {},
   "outputs": [
    {
     "data": {
      "text/plain": [
       "complex"
      ]
     },
     "execution_count": 27,
     "metadata": {},
     "output_type": "execute_result"
    }
   ],
   "source": [
    "type(v)"
   ]
  },
  {
   "cell_type": "code",
   "execution_count": 28,
   "id": "34b17ddb-5869-4183-b831-2b7223c61791",
   "metadata": {},
   "outputs": [
    {
     "data": {
      "text/plain": [
       "(0.5+0.8j)"
      ]
     },
     "execution_count": 28,
     "metadata": {},
     "output_type": "execute_result"
    }
   ],
   "source": [
    "v/a"
   ]
  },
  {
   "cell_type": "code",
   "execution_count": 29,
   "id": "ec7ffffa-a6d3-41fa-8caa-172cfccf1644",
   "metadata": {},
   "outputs": [
    {
     "data": {
      "text/plain": [
       "5.0"
      ]
     },
     "execution_count": 29,
     "metadata": {},
     "output_type": "execute_result"
    }
   ],
   "source": [
    "v.real"
   ]
  },
  {
   "cell_type": "code",
   "execution_count": 30,
   "id": "eea8ec20-c50e-4492-aa1a-d8ccde4017f7",
   "metadata": {},
   "outputs": [
    {
     "data": {
      "text/plain": [
       "8.0"
      ]
     },
     "execution_count": 30,
     "metadata": {},
     "output_type": "execute_result"
    }
   ],
   "source": [
    "v.imag"
   ]
  },
  {
   "cell_type": "code",
   "execution_count": 31,
   "id": "65c22229-b8a4-4193-b50d-44b4ac287157",
   "metadata": {},
   "outputs": [
    {
     "data": {
      "text/plain": [
       "<function complex.conjugate()>"
      ]
     },
     "execution_count": 31,
     "metadata": {},
     "output_type": "execute_result"
    }
   ],
   "source": [
    "v.conjugate"
   ]
  },
  {
   "cell_type": "code",
   "execution_count": 32,
   "id": "45e8d7d2-e848-4ed7-9052-4c1c53206e1a",
   "metadata": {},
   "outputs": [
    {
     "data": {
      "text/plain": [
       "(5+8j)"
      ]
     },
     "execution_count": 32,
     "metadata": {},
     "output_type": "execute_result"
    }
   ],
   "source": [
    "v"
   ]
  },
  {
   "cell_type": "code",
   "execution_count": null,
   "id": "6d83092d-7523-4fd1-bf9b-b67713b28fcc",
   "metadata": {},
   "outputs": [],
   "source": []
  }
 ],
 "metadata": {
  "kernelspec": {
   "display_name": "Python 3 (ipykernel)",
   "language": "python",
   "name": "python3"
  },
  "language_info": {
   "codemirror_mode": {
    "name": "ipython",
    "version": 3
   },
   "file_extension": ".py",
   "mimetype": "text/x-python",
   "name": "python",
   "nbconvert_exporter": "python",
   "pygments_lexer": "ipython3",
   "version": "3.10.8"
  }
 },
 "nbformat": 4,
 "nbformat_minor": 5
}
